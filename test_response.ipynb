{
 "cells": [
  {
   "cell_type": "markdown",
   "id": "31d366eb",
   "metadata": {},
   "source": [
    "# PRUEBA DE CARGO PARA CIENTIFICO DE DATOS"
   ]
  },
  {
   "cell_type": "markdown",
   "id": "4e5928af",
   "metadata": {},
   "source": [
    "### DESCRIPCIÓN DEL PROBLEMA Y APROXIMACIÓNES\n",
    "En este proyecto, se plantea un reto en el cual se pretende identificar, a partir de datos transaccionales, a los clientes o establecimientos que tengan comportamientos que coincidan con el fraccionamiento transaccional.\n",
    "\n",
    "Para esto se van a utilizar dos aproximaciones. La primera va a ser una aproximación experta en la que se planteara un análisis estadístico promedio de desviaciones en el valor y cantidad de transacciones que recibe o envía un usuario en específico. Esto se va a hacer encontrando valores atípicos por medio de análisis descriptivo.\n",
    "\n",
    "Para el segundo caso, se desarrolla un modelo no supervisado de clusterización para agrupar a los clientes por características que tengan en escenarios normales, luego de esto, se estimaran comportamientos atipicos de fraccionamiento transaccional dentro de su grupo, en caso de que presenten comportamientos muy diferentes al del grupo al que fueron asignados, se generara una alerta y habría que analizar el comportamiento de estos clientes a fondo."
   ]
  },
  {
   "cell_type": "markdown",
   "id": "c11ba466",
   "metadata": {},
   "source": [
    "### Importación de paquetes.\n",
    "Importamos todos los paquetes necesarios para tratar los datos y hacer los análisis requeridos en el proyecto."
   ]
  },
  {
   "cell_type": "code",
   "execution_count": 67,
   "id": "f37bf8d4",
   "metadata": {
    "collapsed": true
   },
   "outputs": [
    {
     "name": "stdout",
     "output_type": "stream",
     "text": [
      "Defaulting to user installation because normal site-packages is not writeable\n",
      "Requirement already satisfied: pandas-profiling in c:\\users\\eideradriángutiérrez\\appdata\\roaming\\python\\python39\\site-packages (2.7.1)\n",
      "Requirement already satisfied: scipy>=1.4.1 in c:\\programdata\\anaconda3\\lib\\site-packages (from pandas-profiling) (1.7.3)\n",
      "Requirement already satisfied: missingno>=0.4.2 in c:\\users\\eideradriángutiérrez\\appdata\\roaming\\python\\python39\\site-packages (from pandas-profiling) (0.5.2)\n",
      "Requirement already satisfied: matplotlib>=3.2.0 in c:\\programdata\\anaconda3\\lib\\site-packages (from pandas-profiling) (3.5.1)\n",
      "Requirement already satisfied: confuse>=1.0.0 in c:\\users\\eideradriángutiérrez\\appdata\\roaming\\python\\python39\\site-packages (from pandas-profiling) (2.0.0)\n",
      "Requirement already satisfied: astropy>=4.0 in c:\\programdata\\anaconda3\\lib\\site-packages (from pandas-profiling) (5.0.4)\n",
      "Requirement already satisfied: phik>=0.9.10 in c:\\users\\eideradriángutiérrez\\appdata\\roaming\\python\\python39\\site-packages (from pandas-profiling) (0.12.3)\n",
      "Requirement already satisfied: joblib in c:\\programdata\\anaconda3\\lib\\site-packages (from pandas-profiling) (1.1.0)\n",
      "Requirement already satisfied: numpy>=1.16.0 in c:\\programdata\\anaconda3\\lib\\site-packages (from pandas-profiling) (1.21.5)\n",
      "Requirement already satisfied: tangled-up-in-unicode>=0.0.4 in c:\\users\\eideradriángutiérrez\\appdata\\roaming\\python\\python39\\site-packages (from pandas-profiling) (0.2.0)\n",
      "Requirement already satisfied: ipywidgets>=7.5.1 in c:\\programdata\\anaconda3\\lib\\site-packages (from pandas-profiling) (7.6.5)\n",
      "Requirement already satisfied: tqdm>=4.43.0 in c:\\programdata\\anaconda3\\lib\\site-packages (from pandas-profiling) (4.64.0)\n",
      "Requirement already satisfied: visions[type_image_path]==0.4.1 in c:\\users\\eideradriángutiérrez\\appdata\\roaming\\python\\python39\\site-packages (from pandas-profiling) (0.4.1)\n",
      "Requirement already satisfied: jinja2>=2.11.1 in c:\\programdata\\anaconda3\\lib\\site-packages (from pandas-profiling) (2.11.3)\n",
      "Requirement already satisfied: htmlmin>=0.1.12 in c:\\users\\eideradriángutiérrez\\appdata\\roaming\\python\\python39\\site-packages (from pandas-profiling) (0.1.12)\n",
      "Requirement already satisfied: requests>=2.23.0 in c:\\programdata\\anaconda3\\lib\\site-packages (from pandas-profiling) (2.27.1)\n",
      "Requirement already satisfied: pandas!=1.0.0,!=1.0.1,!=1.0.2,>=0.25.3 in c:\\users\\eideradriángutiérrez\\appdata\\roaming\\python\\python39\\site-packages (from pandas-profiling) (1.5.3)\n",
      "Requirement already satisfied: networkx>=2.4 in c:\\programdata\\anaconda3\\lib\\site-packages (from visions[type_image_path]==0.4.1->pandas-profiling) (2.7.1)\n",
      "Requirement already satisfied: attrs>=19.3.0 in c:\\programdata\\anaconda3\\lib\\site-packages (from visions[type_image_path]==0.4.1->pandas-profiling) (21.4.0)\n",
      "Requirement already satisfied: Pillow in c:\\programdata\\anaconda3\\lib\\site-packages (from visions[type_image_path]==0.4.1->pandas-profiling) (9.0.1)\n",
      "Requirement already satisfied: imagehash in c:\\users\\eideradriángutiérrez\\appdata\\roaming\\python\\python39\\site-packages (from visions[type_image_path]==0.4.1->pandas-profiling) (4.3.1)\n",
      "Requirement already satisfied: PyYAML>=3.13 in c:\\programdata\\anaconda3\\lib\\site-packages (from astropy>=4.0->pandas-profiling) (6.0)\n",
      "Requirement already satisfied: pyerfa>=2.0 in c:\\programdata\\anaconda3\\lib\\site-packages (from astropy>=4.0->pandas-profiling) (2.0.0)\n",
      "Requirement already satisfied: packaging>=19.0 in c:\\programdata\\anaconda3\\lib\\site-packages (from astropy>=4.0->pandas-profiling) (21.3)\n",
      "Requirement already satisfied: traitlets>=4.3.1 in c:\\programdata\\anaconda3\\lib\\site-packages (from ipywidgets>=7.5.1->pandas-profiling) (5.1.1)\n",
      "Requirement already satisfied: ipykernel>=4.5.1 in c:\\programdata\\anaconda3\\lib\\site-packages (from ipywidgets>=7.5.1->pandas-profiling) (6.9.1)\n",
      "Requirement already satisfied: ipython>=4.0.0 in c:\\programdata\\anaconda3\\lib\\site-packages (from ipywidgets>=7.5.1->pandas-profiling) (8.2.0)\n",
      "Requirement already satisfied: ipython-genutils~=0.2.0 in c:\\programdata\\anaconda3\\lib\\site-packages (from ipywidgets>=7.5.1->pandas-profiling) (0.2.0)\n",
      "Requirement already satisfied: nbformat>=4.2.0 in c:\\programdata\\anaconda3\\lib\\site-packages (from ipywidgets>=7.5.1->pandas-profiling) (5.3.0)\n",
      "Requirement already satisfied: widgetsnbextension~=3.5.0 in c:\\programdata\\anaconda3\\lib\\site-packages (from ipywidgets>=7.5.1->pandas-profiling) (3.5.2)\n",
      "Requirement already satisfied: jupyterlab-widgets>=1.0.0 in c:\\programdata\\anaconda3\\lib\\site-packages (from ipywidgets>=7.5.1->pandas-profiling) (1.0.0)\n",
      "Requirement already satisfied: matplotlib-inline<0.2.0,>=0.1.0 in c:\\programdata\\anaconda3\\lib\\site-packages (from ipykernel>=4.5.1->ipywidgets>=7.5.1->pandas-profiling) (0.1.2)\n",
      "Requirement already satisfied: jupyter-client<8.0 in c:\\programdata\\anaconda3\\lib\\site-packages (from ipykernel>=4.5.1->ipywidgets>=7.5.1->pandas-profiling) (6.1.12)\n",
      "Requirement already satisfied: nest-asyncio in c:\\programdata\\anaconda3\\lib\\site-packages (from ipykernel>=4.5.1->ipywidgets>=7.5.1->pandas-profiling) (1.5.5)\n",
      "Requirement already satisfied: debugpy<2.0,>=1.0.0 in c:\\programdata\\anaconda3\\lib\\site-packages (from ipykernel>=4.5.1->ipywidgets>=7.5.1->pandas-profiling) (1.5.1)\n",
      "Requirement already satisfied: tornado<7.0,>=4.2 in c:\\programdata\\anaconda3\\lib\\site-packages (from ipykernel>=4.5.1->ipywidgets>=7.5.1->pandas-profiling) (6.1)\n",
      "Requirement already satisfied: prompt-toolkit!=3.0.0,!=3.0.1,<3.1.0,>=2.0.0 in c:\\programdata\\anaconda3\\lib\\site-packages (from ipython>=4.0.0->ipywidgets>=7.5.1->pandas-profiling) (3.0.20)\n",
      "Requirement already satisfied: pickleshare in c:\\programdata\\anaconda3\\lib\\site-packages (from ipython>=4.0.0->ipywidgets>=7.5.1->pandas-profiling) (0.7.5)\n",
      "Requirement already satisfied: setuptools>=18.5 in c:\\programdata\\anaconda3\\lib\\site-packages (from ipython>=4.0.0->ipywidgets>=7.5.1->pandas-profiling) (61.2.0)\n",
      "Requirement already satisfied: backcall in c:\\programdata\\anaconda3\\lib\\site-packages (from ipython>=4.0.0->ipywidgets>=7.5.1->pandas-profiling) (0.2.0)\n",
      "Requirement already satisfied: pygments>=2.4.0 in c:\\programdata\\anaconda3\\lib\\site-packages (from ipython>=4.0.0->ipywidgets>=7.5.1->pandas-profiling) (2.11.2)\n",
      "Requirement already satisfied: decorator in c:\\programdata\\anaconda3\\lib\\site-packages (from ipython>=4.0.0->ipywidgets>=7.5.1->pandas-profiling) (5.1.1)\n",
      "Requirement already satisfied: jedi>=0.16 in c:\\programdata\\anaconda3\\lib\\site-packages (from ipython>=4.0.0->ipywidgets>=7.5.1->pandas-profiling) (0.18.1)\n",
      "Requirement already satisfied: colorama in c:\\programdata\\anaconda3\\lib\\site-packages (from ipython>=4.0.0->ipywidgets>=7.5.1->pandas-profiling) (0.4.4)\n",
      "Requirement already satisfied: stack-data in c:\\programdata\\anaconda3\\lib\\site-packages (from ipython>=4.0.0->ipywidgets>=7.5.1->pandas-profiling) (0.2.0)\n",
      "Requirement already satisfied: parso<0.9.0,>=0.8.0 in c:\\programdata\\anaconda3\\lib\\site-packages (from jedi>=0.16->ipython>=4.0.0->ipywidgets>=7.5.1->pandas-profiling) (0.8.3)\n",
      "Requirement already satisfied: MarkupSafe>=0.23 in c:\\programdata\\anaconda3\\lib\\site-packages (from jinja2>=2.11.1->pandas-profiling) (2.0.1)\n",
      "Requirement already satisfied: python-dateutil>=2.1 in c:\\programdata\\anaconda3\\lib\\site-packages (from jupyter-client<8.0->ipykernel>=4.5.1->ipywidgets>=7.5.1->pandas-profiling) (2.8.2)\n",
      "Requirement already satisfied: jupyter-core>=4.6.0 in c:\\programdata\\anaconda3\\lib\\site-packages (from jupyter-client<8.0->ipykernel>=4.5.1->ipywidgets>=7.5.1->pandas-profiling) (4.9.2)\n",
      "Requirement already satisfied: pyzmq>=13 in c:\\programdata\\anaconda3\\lib\\site-packages (from jupyter-client<8.0->ipykernel>=4.5.1->ipywidgets>=7.5.1->pandas-profiling) (22.3.0)\n",
      "Requirement already satisfied: pywin32>=1.0 in c:\\programdata\\anaconda3\\lib\\site-packages (from jupyter-core>=4.6.0->jupyter-client<8.0->ipykernel>=4.5.1->ipywidgets>=7.5.1->pandas-profiling) (302)\n",
      "Requirement already satisfied: fonttools>=4.22.0 in c:\\programdata\\anaconda3\\lib\\site-packages (from matplotlib>=3.2.0->pandas-profiling) (4.25.0)\n",
      "Requirement already satisfied: pyparsing>=2.2.1 in c:\\programdata\\anaconda3\\lib\\site-packages (from matplotlib>=3.2.0->pandas-profiling) (3.0.4)\n",
      "Requirement already satisfied: cycler>=0.10 in c:\\programdata\\anaconda3\\lib\\site-packages (from matplotlib>=3.2.0->pandas-profiling) (0.11.0)\n",
      "Requirement already satisfied: kiwisolver>=1.0.1 in c:\\programdata\\anaconda3\\lib\\site-packages (from matplotlib>=3.2.0->pandas-profiling) (1.3.2)\n",
      "Requirement already satisfied: seaborn in c:\\programdata\\anaconda3\\lib\\site-packages (from missingno>=0.4.2->pandas-profiling) (0.11.2)\n",
      "Requirement already satisfied: fastjsonschema in c:\\programdata\\anaconda3\\lib\\site-packages (from nbformat>=4.2.0->ipywidgets>=7.5.1->pandas-profiling) (2.15.1)\n",
      "Requirement already satisfied: jsonschema>=2.6 in c:\\programdata\\anaconda3\\lib\\site-packages (from nbformat>=4.2.0->ipywidgets>=7.5.1->pandas-profiling) (4.4.0)\n",
      "Requirement already satisfied: pyrsistent!=0.17.0,!=0.17.1,!=0.17.2,>=0.14.0 in c:\\programdata\\anaconda3\\lib\\site-packages (from jsonschema>=2.6->nbformat>=4.2.0->ipywidgets>=7.5.1->pandas-profiling) (0.18.0)\n",
      "Requirement already satisfied: pytz>=2020.1 in c:\\programdata\\anaconda3\\lib\\site-packages (from pandas!=1.0.0,!=1.0.1,!=1.0.2,>=0.25.3->pandas-profiling) (2021.3)\n",
      "Requirement already satisfied: wcwidth in c:\\programdata\\anaconda3\\lib\\site-packages (from prompt-toolkit!=3.0.0,!=3.0.1,<3.1.0,>=2.0.0->ipython>=4.0.0->ipywidgets>=7.5.1->pandas-profiling) (0.2.5)\n",
      "Requirement already satisfied: six>=1.5 in c:\\programdata\\anaconda3\\lib\\site-packages (from python-dateutil>=2.1->jupyter-client<8.0->ipykernel>=4.5.1->ipywidgets>=7.5.1->pandas-profiling) (1.16.0)\n",
      "Requirement already satisfied: charset-normalizer~=2.0.0 in c:\\programdata\\anaconda3\\lib\\site-packages (from requests>=2.23.0->pandas-profiling) (2.0.4)\n",
      "Requirement already satisfied: certifi>=2017.4.17 in c:\\programdata\\anaconda3\\lib\\site-packages (from requests>=2.23.0->pandas-profiling) (2021.10.8)\n",
      "Requirement already satisfied: urllib3<1.27,>=1.21.1 in c:\\programdata\\anaconda3\\lib\\site-packages (from requests>=2.23.0->pandas-profiling) (1.26.9)\n",
      "Requirement already satisfied: idna<4,>=2.5 in c:\\programdata\\anaconda3\\lib\\site-packages (from requests>=2.23.0->pandas-profiling) (3.3)\n",
      "Requirement already satisfied: notebook>=4.4.1 in c:\\programdata\\anaconda3\\lib\\site-packages (from widgetsnbextension~=3.5.0->ipywidgets>=7.5.1->pandas-profiling) (6.4.8)\n",
      "Requirement already satisfied: prometheus-client in c:\\programdata\\anaconda3\\lib\\site-packages (from notebook>=4.4.1->widgetsnbextension~=3.5.0->ipywidgets>=7.5.1->pandas-profiling) (0.13.1)\n",
      "Requirement already satisfied: terminado>=0.8.3 in c:\\programdata\\anaconda3\\lib\\site-packages (from notebook>=4.4.1->widgetsnbextension~=3.5.0->ipywidgets>=7.5.1->pandas-profiling) (0.13.1)\n",
      "Requirement already satisfied: nbconvert in c:\\programdata\\anaconda3\\lib\\site-packages (from notebook>=4.4.1->widgetsnbextension~=3.5.0->ipywidgets>=7.5.1->pandas-profiling) (6.4.4)\n",
      "Requirement already satisfied: argon2-cffi in c:\\programdata\\anaconda3\\lib\\site-packages (from notebook>=4.4.1->widgetsnbextension~=3.5.0->ipywidgets>=7.5.1->pandas-profiling) (21.3.0)\n",
      "Requirement already satisfied: Send2Trash>=1.8.0 in c:\\programdata\\anaconda3\\lib\\site-packages (from notebook>=4.4.1->widgetsnbextension~=3.5.0->ipywidgets>=7.5.1->pandas-profiling) (1.8.0)\n",
      "Requirement already satisfied: pywinpty>=1.1.0 in c:\\programdata\\anaconda3\\lib\\site-packages (from terminado>=0.8.3->notebook>=4.4.1->widgetsnbextension~=3.5.0->ipywidgets>=7.5.1->pandas-profiling) (2.0.2)\n",
      "Requirement already satisfied: argon2-cffi-bindings in c:\\programdata\\anaconda3\\lib\\site-packages (from argon2-cffi->notebook>=4.4.1->widgetsnbextension~=3.5.0->ipywidgets>=7.5.1->pandas-profiling) (21.2.0)\n",
      "Requirement already satisfied: cffi>=1.0.1 in c:\\programdata\\anaconda3\\lib\\site-packages (from argon2-cffi-bindings->argon2-cffi->notebook>=4.4.1->widgetsnbextension~=3.5.0->ipywidgets>=7.5.1->pandas-profiling) (1.15.0)\n",
      "Requirement already satisfied: pycparser in c:\\programdata\\anaconda3\\lib\\site-packages (from cffi>=1.0.1->argon2-cffi-bindings->argon2-cffi->notebook>=4.4.1->widgetsnbextension~=3.5.0->ipywidgets>=7.5.1->pandas-profiling) (2.21)\n",
      "Requirement already satisfied: PyWavelets in c:\\programdata\\anaconda3\\lib\\site-packages (from imagehash->visions[type_image_path]==0.4.1->pandas-profiling) (1.3.0)\n",
      "Requirement already satisfied: pandocfilters>=1.4.1 in c:\\programdata\\anaconda3\\lib\\site-packages (from nbconvert->notebook>=4.4.1->widgetsnbextension~=3.5.0->ipywidgets>=7.5.1->pandas-profiling) (1.5.0)\n",
      "Requirement already satisfied: entrypoints>=0.2.2 in c:\\programdata\\anaconda3\\lib\\site-packages (from nbconvert->notebook>=4.4.1->widgetsnbextension~=3.5.0->ipywidgets>=7.5.1->pandas-profiling) (0.4)\n",
      "Requirement already satisfied: jupyterlab-pygments in c:\\programdata\\anaconda3\\lib\\site-packages (from nbconvert->notebook>=4.4.1->widgetsnbextension~=3.5.0->ipywidgets>=7.5.1->pandas-profiling) (0.1.2)\n",
      "Requirement already satisfied: bleach in c:\\programdata\\anaconda3\\lib\\site-packages (from nbconvert->notebook>=4.4.1->widgetsnbextension~=3.5.0->ipywidgets>=7.5.1->pandas-profiling) (4.1.0)\n",
      "Requirement already satisfied: testpath in c:\\programdata\\anaconda3\\lib\\site-packages (from nbconvert->notebook>=4.4.1->widgetsnbextension~=3.5.0->ipywidgets>=7.5.1->pandas-profiling) (0.5.0)\n",
      "Requirement already satisfied: beautifulsoup4 in c:\\programdata\\anaconda3\\lib\\site-packages (from nbconvert->notebook>=4.4.1->widgetsnbextension~=3.5.0->ipywidgets>=7.5.1->pandas-profiling) (4.11.1)\n",
      "Requirement already satisfied: nbclient<0.6.0,>=0.5.0 in c:\\programdata\\anaconda3\\lib\\site-packages (from nbconvert->notebook>=4.4.1->widgetsnbextension~=3.5.0->ipywidgets>=7.5.1->pandas-profiling) (0.5.13)\n",
      "Requirement already satisfied: mistune<2,>=0.8.1 in c:\\programdata\\anaconda3\\lib\\site-packages (from nbconvert->notebook>=4.4.1->widgetsnbextension~=3.5.0->ipywidgets>=7.5.1->pandas-profiling) (0.8.4)\n",
      "Requirement already satisfied: defusedxml in c:\\programdata\\anaconda3\\lib\\site-packages (from nbconvert->notebook>=4.4.1->widgetsnbextension~=3.5.0->ipywidgets>=7.5.1->pandas-profiling) (0.7.1)\n",
      "Requirement already satisfied: soupsieve>1.2 in c:\\programdata\\anaconda3\\lib\\site-packages (from beautifulsoup4->nbconvert->notebook>=4.4.1->widgetsnbextension~=3.5.0->ipywidgets>=7.5.1->pandas-profiling) (2.3.1)\n",
      "Requirement already satisfied: webencodings in c:\\programdata\\anaconda3\\lib\\site-packages (from bleach->nbconvert->notebook>=4.4.1->widgetsnbextension~=3.5.0->ipywidgets>=7.5.1->pandas-profiling) (0.5.1)\n",
      "Requirement already satisfied: executing in c:\\programdata\\anaconda3\\lib\\site-packages (from stack-data->ipython>=4.0.0->ipywidgets>=7.5.1->pandas-profiling) (0.8.3)\n",
      "Requirement already satisfied: asttokens in c:\\programdata\\anaconda3\\lib\\site-packages (from stack-data->ipython>=4.0.0->ipywidgets>=7.5.1->pandas-profiling) (2.0.5)\n"
     ]
    },
    {
     "name": "stdout",
     "output_type": "stream",
     "text": [
      "Requirement already satisfied: pure-eval in c:\\programdata\\anaconda3\\lib\\site-packages (from stack-data->ipython>=4.0.0->ipywidgets>=7.5.1->pandas-profiling) (0.2.2)\n"
     ]
    }
   ],
   "source": [
    "!pip install pandas-profiling\n",
    "!pip install plotnine"
   ]
  },
  {
   "cell_type": "code",
   "execution_count": 53,
   "id": "25c51c09",
   "metadata": {
    "collapsed": true
   },
   "outputs": [
    {
     "name": "stdout",
     "output_type": "stream",
     "text": [
      "Defaulting to user installation because normal site-packages is not writeable\n",
      "Requirement already satisfied: pyarrow in c:\\users\\eideradriángutiérrez\\appdata\\roaming\\python\\python39\\site-packages (11.0.0)\n",
      "Requirement already satisfied: numpy>=1.16.6 in c:\\programdata\\anaconda3\\lib\\site-packages (from pyarrow) (1.21.5)\n",
      "Defaulting to user installation because normal site-packages is not writeable\n",
      "Requirement already satisfied: pandas_profiling in c:\\users\\eideradriángutiérrez\\appdata\\roaming\\python\\python39\\site-packages (3.6.6)\n",
      "Requirement already satisfied: ydata-profiling in c:\\users\\eideradriángutiérrez\\appdata\\roaming\\python\\python39\\site-packages (from pandas_profiling) (4.1.1)\n",
      "Requirement already satisfied: pydantic<1.11,>=1.8.1 in c:\\users\\eideradriángutiérrez\\appdata\\roaming\\python\\python39\\site-packages (from ydata-profiling->pandas_profiling) (1.10.6)\n",
      "Requirement already satisfied: statsmodels<0.14,>=0.13.2 in c:\\programdata\\anaconda3\\lib\\site-packages (from ydata-profiling->pandas_profiling) (0.13.2)\n",
      "Requirement already satisfied: phik<0.13,>=0.11.1 in c:\\users\\eideradriángutiérrez\\appdata\\roaming\\python\\python39\\site-packages (from ydata-profiling->pandas_profiling) (0.12.3)\n",
      "Requirement already satisfied: multimethod<1.10,>=1.4 in c:\\users\\eideradriángutiérrez\\appdata\\roaming\\python\\python39\\site-packages (from ydata-profiling->pandas_profiling) (1.9.1)\n",
      "Requirement already satisfied: typeguard<2.14,>=2.13.2 in c:\\users\\eideradriángutiérrez\\appdata\\roaming\\python\\python39\\site-packages (from ydata-profiling->pandas_profiling) (2.13.3)\n",
      "Requirement already satisfied: imagehash==4.3.1 in c:\\users\\eideradriángutiérrez\\appdata\\roaming\\python\\python39\\site-packages (from ydata-profiling->pandas_profiling) (4.3.1)\n",
      "Requirement already satisfied: tqdm<4.65,>=4.48.2 in c:\\programdata\\anaconda3\\lib\\site-packages (from ydata-profiling->pandas_profiling) (4.64.0)\n",
      "Requirement already satisfied: PyYAML<6.1,>=5.0.0 in c:\\programdata\\anaconda3\\lib\\site-packages (from ydata-profiling->pandas_profiling) (6.0)\n",
      "Requirement already satisfied: pandas!=1.4.0,<1.6,>1.1 in c:\\programdata\\anaconda3\\lib\\site-packages (from ydata-profiling->pandas_profiling) (1.4.2)\n",
      "Requirement already satisfied: seaborn<0.13,>=0.10.1 in c:\\programdata\\anaconda3\\lib\\site-packages (from ydata-profiling->pandas_profiling) (0.11.2)\n",
      "Requirement already satisfied: scipy<1.10,>=1.4.1 in c:\\programdata\\anaconda3\\lib\\site-packages (from ydata-profiling->pandas_profiling) (1.7.3)\n",
      "Requirement already satisfied: matplotlib<3.7,>=3.2 in c:\\programdata\\anaconda3\\lib\\site-packages (from ydata-profiling->pandas_profiling) (3.5.1)\n",
      "Requirement already satisfied: visions[type_image_path]==0.7.5 in c:\\users\\eideradriángutiérrez\\appdata\\roaming\\python\\python39\\site-packages (from ydata-profiling->pandas_profiling) (0.7.5)\n",
      "Requirement already satisfied: requests<2.29,>=2.24.0 in c:\\programdata\\anaconda3\\lib\\site-packages (from ydata-profiling->pandas_profiling) (2.27.1)\n",
      "Requirement already satisfied: htmlmin==0.1.12 in c:\\users\\eideradriángutiérrez\\appdata\\roaming\\python\\python39\\site-packages (from ydata-profiling->pandas_profiling) (0.1.12)\n",
      "Requirement already satisfied: numpy<1.24,>=1.16.0 in c:\\programdata\\anaconda3\\lib\\site-packages (from ydata-profiling->pandas_profiling) (1.21.5)\n",
      "Requirement already satisfied: jinja2<3.2,>=2.11.1 in c:\\programdata\\anaconda3\\lib\\site-packages (from ydata-profiling->pandas_profiling) (2.11.3)\n",
      "Requirement already satisfied: PyWavelets in c:\\programdata\\anaconda3\\lib\\site-packages (from imagehash==4.3.1->ydata-profiling->pandas_profiling) (1.3.0)\n",
      "Requirement already satisfied: pillow in c:\\programdata\\anaconda3\\lib\\site-packages (from imagehash==4.3.1->ydata-profiling->pandas_profiling) (9.0.1)\n",
      "Requirement already satisfied: attrs>=19.3.0 in c:\\programdata\\anaconda3\\lib\\site-packages (from visions[type_image_path]==0.7.5->ydata-profiling->pandas_profiling) (21.4.0)\n",
      "Requirement already satisfied: tangled-up-in-unicode>=0.0.4 in c:\\users\\eideradriángutiérrez\\appdata\\roaming\\python\\python39\\site-packages (from visions[type_image_path]==0.7.5->ydata-profiling->pandas_profiling) (0.2.0)\n",
      "Requirement already satisfied: networkx>=2.4 in c:\\programdata\\anaconda3\\lib\\site-packages (from visions[type_image_path]==0.7.5->ydata-profiling->pandas_profiling) (2.7.1)\n",
      "Requirement already satisfied: MarkupSafe>=0.23 in c:\\programdata\\anaconda3\\lib\\site-packages (from jinja2<3.2,>=2.11.1->ydata-profiling->pandas_profiling) (2.0.1)\n",
      "Requirement already satisfied: python-dateutil>=2.7 in c:\\programdata\\anaconda3\\lib\\site-packages (from matplotlib<3.7,>=3.2->ydata-profiling->pandas_profiling) (2.8.2)\n",
      "Requirement already satisfied: cycler>=0.10 in c:\\programdata\\anaconda3\\lib\\site-packages (from matplotlib<3.7,>=3.2->ydata-profiling->pandas_profiling) (0.11.0)\n",
      "Requirement already satisfied: kiwisolver>=1.0.1 in c:\\programdata\\anaconda3\\lib\\site-packages (from matplotlib<3.7,>=3.2->ydata-profiling->pandas_profiling) (1.3.2)\n",
      "Requirement already satisfied: packaging>=20.0 in c:\\programdata\\anaconda3\\lib\\site-packages (from matplotlib<3.7,>=3.2->ydata-profiling->pandas_profiling) (21.3)\n",
      "Requirement already satisfied: pyparsing>=2.2.1 in c:\\programdata\\anaconda3\\lib\\site-packages (from matplotlib<3.7,>=3.2->ydata-profiling->pandas_profiling) (3.0.4)\n",
      "Requirement already satisfied: fonttools>=4.22.0 in c:\\programdata\\anaconda3\\lib\\site-packages (from matplotlib<3.7,>=3.2->ydata-profiling->pandas_profiling) (4.25.0)\n",
      "Requirement already satisfied: pytz>=2020.1 in c:\\programdata\\anaconda3\\lib\\site-packages (from pandas!=1.4.0,<1.6,>1.1->ydata-profiling->pandas_profiling) (2021.3)\n",
      "Requirement already satisfied: joblib>=0.14.1 in c:\\programdata\\anaconda3\\lib\\site-packages (from phik<0.13,>=0.11.1->ydata-profiling->pandas_profiling) (1.1.0)\n",
      "Requirement already satisfied: typing-extensions>=4.2.0 in c:\\users\\eideradriángutiérrez\\appdata\\roaming\\python\\python39\\site-packages (from pydantic<1.11,>=1.8.1->ydata-profiling->pandas_profiling) (4.5.0)\n",
      "Requirement already satisfied: six>=1.5 in c:\\programdata\\anaconda3\\lib\\site-packages (from python-dateutil>=2.7->matplotlib<3.7,>=3.2->ydata-profiling->pandas_profiling) (1.16.0)\n",
      "Requirement already satisfied: charset-normalizer~=2.0.0 in c:\\programdata\\anaconda3\\lib\\site-packages (from requests<2.29,>=2.24.0->ydata-profiling->pandas_profiling) (2.0.4)\n",
      "Requirement already satisfied: idna<4,>=2.5 in c:\\programdata\\anaconda3\\lib\\site-packages (from requests<2.29,>=2.24.0->ydata-profiling->pandas_profiling) (3.3)\n",
      "Requirement already satisfied: urllib3<1.27,>=1.21.1 in c:\\programdata\\anaconda3\\lib\\site-packages (from requests<2.29,>=2.24.0->ydata-profiling->pandas_profiling) (1.26.9)\n",
      "Requirement already satisfied: certifi>=2017.4.17 in c:\\programdata\\anaconda3\\lib\\site-packages (from requests<2.29,>=2.24.0->ydata-profiling->pandas_profiling) (2021.10.8)\n",
      "Requirement already satisfied: patsy>=0.5.2 in c:\\programdata\\anaconda3\\lib\\site-packages (from statsmodels<0.14,>=0.13.2->ydata-profiling->pandas_profiling) (0.5.2)\n",
      "Requirement already satisfied: colorama in c:\\programdata\\anaconda3\\lib\\site-packages (from tqdm<4.65,>=4.48.2->ydata-profiling->pandas_profiling) (0.4.4)\n"
     ]
    }
   ],
   "source": [
    "!pip install pyarrow\n",
    "!pip install yellowbrick\n",
    "!pip install kmodes"
   ]
  },
  {
   "cell_type": "code",
   "execution_count": 4,
   "id": "750ce338",
   "metadata": {},
   "outputs": [],
   "source": [
    "# importing libraries\n",
    "import pandas as pd\n",
    "import numpy as np\n",
    "import math\n",
    "import plotly.express as px ## I preffer plotly.express but it doesn't work well if you dont run the code again\n",
    "from datetime import datetime,timedelta\n",
    "\n",
    "import matplotlib.pyplot as plt\n",
    "import seaborn as sns\n",
    "import mplfinance as mpl\n",
    "from plotly.subplots import make_subplots\n",
    "import plotly.graph_objects as go\n",
    "#from pandas_profiling import ProfileReport\n",
    "from sklearn.preprocessing import MinMaxScaler\n",
    "from numpy import unique\n",
    "from numpy import where\n",
    "from matplotlib import pyplot\n",
    "from sklearn.cluster import AffinityPropagation\n",
    "from yellowbrick.cluster import SilhouetteVisualizer\n",
    "from sklearn.model_selection import train_test_split\n",
    "from plotnine import *\n",
    "import plotnine\n",
    "from sklearn.metrics import silhouette_score\n",
    "from kmodes.kprototypes import KPrototypes"
   ]
  },
  {
   "cell_type": "markdown",
   "id": "ab363e0c",
   "metadata": {},
   "source": [
    "### importar la base de datos y hacer una evaluación inicial de los datos."
   ]
  },
  {
   "cell_type": "code",
   "execution_count": 5,
   "id": "83a90dee",
   "metadata": {},
   "outputs": [],
   "source": [
    "## read the dataframe from the folder we save the parquet files in.\n",
    "data=pd.read_parquet(\"Data\")"
   ]
  },
  {
   "cell_type": "code",
   "execution_count": 6,
   "id": "c4725853",
   "metadata": {},
   "outputs": [
    {
     "name": "stdout",
     "output_type": "stream",
     "text": [
      "dimensiones de la base de datos:  (21516918, 8)\n",
      "cuantos valores unicos tiene cada variable merchant_id                  3\n",
      "_id                   21516901\n",
      "subsidiary               16833\n",
      "transaction_date      11735502\n",
      "account_number         3099711\n",
      "user_id                3087217\n",
      "transaction_amount       28260\n",
      "transaction_type             2\n",
      "dtype: int64\n"
     ]
    }
   ],
   "source": [
    "## Describe te shape and complexity of the dataframe\n",
    "print(\"dimensiones de la base de datos: \", data.shape)\n",
    "print(\"cuantos valores unicos tiene cada variable\",data.nunique())"
   ]
  },
  {
   "cell_type": "code",
   "execution_count": 6,
   "id": "05926179",
   "metadata": {},
   "outputs": [
    {
     "data": {
      "text/plain": [
       "account_number    12514\n",
       "user_id           11399\n",
       "_id                 187\n",
       "dtype: int64"
      ]
     },
     "execution_count": 6,
     "metadata": {},
     "output_type": "execute_result"
    }
   ],
   "source": [
    "## evaluate if an user_id can have more than 2 account numbers\n",
    "temp=data[[\"account_number\",\"user_id\",\"_id\"]].groupby([\"account_number\",\"user_id\"])[\"_id\"].count().reset_index()\n",
    "temp[temp[\"user_id\"].duplicated()].nunique()"
   ]
  },
  {
   "cell_type": "markdown",
   "id": "798faea0",
   "metadata": {},
   "source": [
    "Vemos que el _id es un identificador único para las transacciones, sin embargo, deben haber algunas transacciones con ID repetido o sin _ID ya que el tamaño de valores únicos de _ID es un poco menor que el tamaño de la base de datos.\n",
    "\n",
    "Por otra parte, vemos que un mismo user_id, puede tener incluso más de 3 account_number, aun cuando no son una muestra significativa de la base de datos.\n",
    "\n",
    "Además, vemos que solo existen 3 códigos de merchant_id, por lo que debe ser una agrupación bastante general, respecto a la cual tal vez valga la pena distinguir a los clientes."
   ]
  },
  {
   "cell_type": "code",
   "execution_count": 7,
   "id": "f28fce0a",
   "metadata": {},
   "outputs": [
    {
     "data": {
      "text/plain": [
       "merchant_id           0\n",
       "_id                   0\n",
       "subsidiary            0\n",
       "transaction_date      0\n",
       "account_number        0\n",
       "user_id               0\n",
       "transaction_amount    0\n",
       "transaction_type      0\n",
       "dtype: int64"
      ]
     },
     "execution_count": 7,
     "metadata": {},
     "output_type": "execute_result"
    }
   ],
   "source": [
    "## evaluate the amount of missing values in the data\n",
    "data.isna().sum()"
   ]
  },
  {
   "cell_type": "markdown",
   "id": "b1ed4328",
   "metadata": {},
   "source": [
    "En la tabla anterior podemos evidenciar que todas las variables están completas y que no contienen celdas vacías.\n",
    "Por lo que no se debe realizar tratamientos de valores faltantes."
   ]
  },
  {
   "cell_type": "code",
   "execution_count": 8,
   "id": "360359f3",
   "metadata": {
    "scrolled": true
   },
   "outputs": [
    {
     "name": "stdout",
     "output_type": "stream",
     "text": [
      "<class 'pandas.core.frame.DataFrame'>\n",
      "RangeIndex: 21516918 entries, 0 to 21516917\n",
      "Data columns (total 8 columns):\n",
      " #   Column              Dtype         \n",
      "---  ------              -----         \n",
      " 0   merchant_id         object        \n",
      " 1   _id                 object        \n",
      " 2   subsidiary          object        \n",
      " 3   transaction_date    datetime64[ns]\n",
      " 4   account_number      object        \n",
      " 5   user_id             object        \n",
      " 6   transaction_amount  object        \n",
      " 7   transaction_type    object        \n",
      "dtypes: datetime64[ns](1), object(7)\n",
      "memory usage: 1.3+ GB\n"
     ]
    }
   ],
   "source": [
    "## evaluate the data schema \n",
    "data.info()"
   ]
  },
  {
   "cell_type": "markdown",
   "id": "d1caf57d",
   "metadata": {},
   "source": [
    "En la anterior tabla vemos que la mayoría de datos están almacenados como objetos, lo cual tiene bastante sentido para las columnas que corresponden a IDs, sin embargo, para la columna del transaction_amount no tiene mucho sentido por lo que esta columna se convertirá a float."
   ]
  },
  {
   "cell_type": "code",
   "execution_count": 7,
   "id": "5be7100a",
   "metadata": {},
   "outputs": [
    {
     "data": {
      "text/plain": [
       "count    2.151692e+07\n",
       "mean     1.912898e+02\n",
       "std      2.408464e+02\n",
       "min      5.944455e+00\n",
       "25%      3.566673e+01\n",
       "50%      1.070002e+02\n",
       "75%      2.377782e+02\n",
       "max      4.624786e+03\n",
       "Name: transaction_amount, dtype: float64"
      ]
     },
     "execution_count": 7,
     "metadata": {},
     "output_type": "execute_result"
    }
   ],
   "source": [
    "## convert the transaction_amount to float\n",
    "data[\"transaction_amount\"]=data[\"transaction_amount\"].astype(float)\n",
    "data[\"transaction_amount\"].describe()"
   ]
  },
  {
   "cell_type": "code",
   "execution_count": 10,
   "id": "bae35adc",
   "metadata": {},
   "outputs": [
    {
     "name": "stdout",
     "output_type": "stream",
     "text": [
      "evaluate if subsidiary corresponds to user_id True\n",
      "evaluate if subsidiary corresponds to account_number True\n"
     ]
    }
   ],
   "source": [
    "## evaluate if subsidiary have any relation with user_id or account_number\n",
    "print(\"evaluate if subsidiary corresponds to user_id\",sum(data[\"subsidiary\"].isin(data[\"user_id\"]))==0)\n",
    "print(\"evaluate if subsidiary corresponds to account_number\",sum(data[\"subsidiary\"].isin(data[\"account_number\"]))==0)"
   ]
  },
  {
   "cell_type": "markdown",
   "id": "0e3de271",
   "metadata": {},
   "source": [
    "# Punto 2"
   ]
  },
  {
   "cell_type": "markdown",
   "id": "e4b71bc1",
   "metadata": {},
   "source": [
    "## EDA\n",
    "Dado que el único dato que es numérico es el del transaction amount, gran parte del EDA se va a centrar en esta variable, junto con la de la fecha de transacción."
   ]
  },
  {
   "cell_type": "code",
   "execution_count": 11,
   "id": "f53e5449",
   "metadata": {},
   "outputs": [
    {
     "name": "stdout",
     "output_type": "stream",
     "text": [
      "first date on the dataframe:  2021-01-01 00:00:40\n",
      "last date on the dataframe:  2021-11-30 23:59:49\n"
     ]
    }
   ],
   "source": [
    "## evaluate the time range for which we have information\n",
    "print(\"first date on the dataframe: \",data[\"transaction_date\"].min())\n",
    "print(\"last date on the dataframe: \",data[\"transaction_date\"].max())"
   ]
  },
  {
   "cell_type": "markdown",
   "id": "8830cf82",
   "metadata": {},
   "source": [
    "Se observa que se cuenta con una base de datos de transacciones que contiene datos de todo 2021 exceptuando diciembre. Por lo que la base corresponde a los periodos más álgidos de la pandemia por coronavirus"
   ]
  },
  {
   "cell_type": "code",
   "execution_count": 12,
   "id": "77b74756",
   "metadata": {},
   "outputs": [
    {
     "data": {
      "text/plain": [
       "817d18cd3c31e40e9bff0566baae7758    14534300\n",
       "838a8fa992a4aa2fb5a0cf8b15b63755     3753400\n",
       "075d178871d8d48502bf1f54887e52fe     3229218\n",
       "Name: merchant_id, dtype: int64"
      ]
     },
     "execution_count": 12,
     "metadata": {},
     "output_type": "execute_result"
    }
   ],
   "source": [
    "## available merchant_ids\n",
    "data['merchant_id'].value_counts()"
   ]
  },
  {
   "cell_type": "markdown",
   "id": "46100150",
   "metadata": {},
   "source": [
    "### Evaluar la distribución del transaction amount por cada merchant_id"
   ]
  },
  {
   "cell_type": "code",
   "execution_count": 13,
   "id": "5489f194",
   "metadata": {},
   "outputs": [
    {
     "data": {
      "image/png": "[encoded data removed]",
      "text/plain": [
       "<Figure size 1008x576 with 1 Axes>"
      ]
     },
     "metadata": {
      "needs_background": "light"
     },
     "output_type": "display_data"
    }
   ],
   "source": [
    "## plot the distribution of the transaction_amount by merchant_id\n",
    "plt.figure(figsize=(14,8))\n",
    "\n",
    "plt.hist(data[data['merchant_id']==\"817d18cd3c31e40e9bff0566baae7758\"][\"transaction_amount\"],\n",
    "         alpha=0.5, # the transparency parameter\n",
    "         label='817d18cd3c31e40e9bff0566baae7758',\n",
    "         bins=50)\n",
    "\n",
    "plt.hist(data[data['merchant_id']==\"075d178871d8d48502bf1f54887e52fe\"][\"transaction_amount\"],\n",
    "         alpha=0.6,\n",
    "         label='075d178871d8d48502bf1f54887e52fe',\n",
    "         bins=50)\n",
    "\n",
    "plt.hist(data[data['merchant_id']==\"838a8fa992a4aa2fb5a0cf8b15b63755\"][\"transaction_amount\"],\n",
    "         alpha=0.8,\n",
    "         label='838a8fa992a4aa2fb5a0cf8b15b63755',\n",
    "         bins=50)\n",
    "\n",
    "plt.legend(loc='upper right')\n",
    "plt.title('transaction amount histogram by merchant_id',fontsize=20)\n",
    "plt.xlabel(\"Transaction amount\",fontsize=14)\n",
    "plt.ylabel(\"Number of transactions\",fontsize=14)\n",
    "plt.show()"
   ]
  },
  {
   "cell_type": "markdown",
   "id": "b98ae3e5",
   "metadata": {},
   "source": [
    "Podemos observar que el monto de la transacción esta normalizado o tal vez corresponde a montos en dólares.\n",
    "\n",
    "Además, la gráfica anterior nos indica que es muy importante tomar en cuenta el merchant_id desde el que se realiza la transacción. Probablemente lo mejor sería hacer un modelo para cada uno de los merchant_id; sin embargo, dado que nuestra aproximación permite hacer una agrupación de los clientes con comportamientos similares, se esperaría que también se tuviera en cuenta el merchant_id al que pertenecen.\n"
   ]
  },
  {
   "cell_type": "code",
   "execution_count": 14,
   "id": "92f6d4bd",
   "metadata": {},
   "outputs": [
    {
     "data": {
      "text/plain": [
       "f54e0b6b32831a6307361ed959903e76    712798\n",
       "8c52a2d7745e37bcee79717300f796e3    342118\n",
       "d4b621a24cc03e3f92155a7e241fa1c3    331271\n",
       "dff70ce33784a932ce4a7efc81a43863    240575\n",
       "d4b31b123120a4eefd51ba95975f2ae4    100892\n",
       "                                     ...  \n",
       "0496e8a3c4c45eb1173d5098f692118d         1\n",
       "4becb1ec91781b9c385ba2c518d4f723         1\n",
       "81660377bd7b460e63d885194b26f486         1\n",
       "2d6d38328ad1b996b39c409fd1a99be7         1\n",
       "34c0681bb30a128494cd78772ff35d58         1\n",
       "Name: subsidiary, Length: 16833, dtype: int64"
      ]
     },
     "execution_count": 14,
     "metadata": {},
     "output_type": "execute_result"
    }
   ],
   "source": [
    "## evaluate the amount of transactions that can be in each subsidiary\n",
    "data[\"subsidiary\"].value_counts()"
   ]
  },
  {
   "cell_type": "code",
   "execution_count": 15,
   "id": "3bc44bab",
   "metadata": {},
   "outputs": [
    {
     "name": "stdout",
     "output_type": "stream",
     "text": [
      "can subsidiary receive transactions from different merchan_id's?:  False\n"
     ]
    }
   ],
   "source": [
    "## evaluate if a subsidiary can receive transactions in different merchant_id's\n",
    "temp=data.groupby([\"merchant_id\",\"subsidiary\"])[\"_id\"].count().reset_index()\n",
    "print(\"can subsidiary receive transactions from different merchan_id's?: \",sum(temp[\"subsidiary\"].duplicated())!=0)"
   ]
  },
  {
   "cell_type": "markdown",
   "id": "74a253f8",
   "metadata": {},
   "source": [
    "Existen filiales que contienen una cantidad importante de las transacciones por lo que se podrían clasificar a los clientes dentro de las filiales que son importantes (que tengan muchas transacciones), a las cuales hagan una cantidad importante de transacciones.\n",
    "\n",
    "Además, como vimos, una filial solo puede pertenecer a un merchant_id, por lo que tal vez clasificar a los clientes según el merchant_id al que más transacciónes hagan podría ser más significativo."
   ]
  },
  {
   "cell_type": "markdown",
   "id": "cdafe75f",
   "metadata": {},
   "source": [
    "### Evaluar la varianza del monto de las transacciones realizadas en el tiempo"
   ]
  },
  {
   "cell_type": "code",
   "execution_count": 16,
   "id": "edb174c8",
   "metadata": {},
   "outputs": [],
   "source": [
    "## define the time delta for the analysis\n",
    "timedelta_param=\"W\""
   ]
  },
  {
   "cell_type": "code",
   "execution_count": 17,
   "id": "1f551796",
   "metadata": {},
   "outputs": [],
   "source": [
    "## crear un dataframe que contenga el monto y varanza de todos los merchant_id's agrupados\n",
    "temp_general_group=data.groupby([pd.Grouper(key=\"transaction_date\",\n",
    "                                            freq=timedelta_param)])[\"transaction_amount\"].agg([\"mean\",\"std\",\"count\"]).reset_index()\n",
    "temp_general_group[\"positive_std\"]=temp_general_group[\"mean\"]+temp_general_group[\"std\"]\n",
    "temp_general_group[\"negative_std\"]=temp_general_group[\"mean\"]-temp_general_group[\"std\"]"
   ]
  },
  {
   "cell_type": "code",
   "execution_count": 18,
   "id": "d2a80e19",
   "metadata": {
    "scrolled": false
   },
   "outputs": [
    {
     "data": {
      "image/png": "[encoded data removed]",
      "text/plain": [
       "<Figure size 1008x576 with 2 Axes>"
      ]
     },
     "metadata": {
      "needs_background": "light"
     },
     "output_type": "display_data"
    }
   ],
   "source": [
    "##plot the mean, 1 deviation from the mean and the count of transactions\n",
    "fig,ax = plt.subplots(figsize=(14,8))\n",
    "\n",
    "ax.plot(range(len(temp_general_group[\"transaction_date\"])),\n",
    "        temp_general_group[\"mean\"],\n",
    "        label=\"average over time\",\n",
    "        color=\"green\")\n",
    "\n",
    "ax.plot(range(len(temp_general_group[\"transaction_date\"])),\n",
    "        temp_general_group[\"positive_std\"],\n",
    "        label=\"1 standar deviation above the mean\",\n",
    "        color=\"red\")\n",
    "\n",
    "ax.plot(range(len(temp_general_group[\"transaction_date\"])),\n",
    "        temp_general_group[\"negative_std\"],\n",
    "        label=\"1 standar deviation under the mean\",\n",
    "        color=\"red\")\n",
    "\n",
    "ax.set_xlabel(\"week of the year\", fontsize = 14)\n",
    "ax.set_ylabel(\"value of transactions\",\n",
    "              color=\"green\",\n",
    "              fontsize=14)\n",
    "plt.legend(loc='upper left')\n",
    "\n",
    "ax2=ax.twinx()\n",
    "# make a plot with different y-axis using second axis object\n",
    "ax2.bar(range(len(temp_general_group[\"transaction_date\"])),\n",
    "        temp_general_group[\"count\"],\n",
    "        color=\"blue\",\n",
    "        alpha=0.3)\n",
    "ax2.set_ylabel(\"number of transactions\",color=\"blue\",fontsize=14)\n",
    "\n",
    "plt.title('transaction value, std and count over time',fontsize=20)\n",
    "plt.show()"
   ]
  },
  {
   "cell_type": "markdown",
   "id": "be6c3958",
   "metadata": {},
   "source": [
    "Vemos que en las primeras 5 semanas de 2021 hubo un periodo en el que el monto promedio de las transacciones era muy bajo, pero en el cual se realizaban muchas transacciones, lo cual es sospechoso.\n",
    "\n",
    "Por otra lado vemos que n cuanto a la tendencia, incluso la varianza de los datos ha tendido a aumentar a través del tiempo, por lo que <b> es importante que cualquier análisis que se haga tenga muy en cuenta el factor del tiempo <b>"
   ]
  },
  {
   "cell_type": "markdown",
   "id": "87939fc1",
   "metadata": {},
   "source": [
    "### evaluación del promedio del monto de las transacciones en el tiempo por merchant_id"
   ]
  },
  {
   "cell_type": "code",
   "execution_count": 19,
   "id": "2c7e1684",
   "metadata": {
    "scrolled": false
   },
   "outputs": [
    {
     "data": {
      "image/png": "[encoded data removed]",
      "text/plain": [
       "<Figure size 1008x576 with 1 Axes>"
      ]
     },
     "metadata": {
      "needs_background": "light"
     },
     "output_type": "display_data"
    }
   ],
   "source": [
    "## create the dataframe grouped by date and merchant_id\n",
    "temp_timestamp_data=data.groupby([\"merchant_id\",\n",
    "                                  pd.Grouper(key=\"transaction_date\",\n",
    "                                            freq=timedelta_param)])[\"transaction_amount\"].agg([\"mean\",\"count\",\"std\"]).reset_index()\n",
    "## plot the behaviour of transactions over time\n",
    "plt.figure(figsize=(14,8))\n",
    "\n",
    "for i in list(data['merchant_id'].unique()):\n",
    "    plt.plot(temp_timestamp_data[temp_timestamp_data[\"merchant_id\"]==i][\"transaction_date\"],\n",
    "             temp_timestamp_data[temp_timestamp_data[\"merchant_id\"]==i][\"mean\"],\n",
    "             label=i)\n",
    "\n",
    "plt.legend(loc='upper right')\n",
    "plt.title('transaction amount average over time by merchant_id',fontsize=20)\n",
    "plt.xlabel(\"timelapse\",fontsize=14)\n",
    "plt.ylabel(\"transactions average in that timelapse\",fontsize=14)\n",
    "plt.show()"
   ]
  },
  {
   "cell_type": "markdown",
   "id": "bc253bcf",
   "metadata": {},
   "source": [
    "Acá podemos observar que el merchant_id verde tenía un comportamiento en cuanto a promedio de transacciones totalmente diferente en el principio del año; el cual explica el valle en el comportamiento general de la anterior gráfica, por lo que tal vez para agrupar a los clientes por su comportamiento usual, sería importante <b> excluir de la muestra las transacciones del merchant_id verde en los primeros meses del año <b>.\n",
    "    \n",
    "Además, podemos observar que <b> hay un comportamiento cíclico </b> importante cada 4 semanas y que en términos de tendencia, viene aumentando paulatinamente el monto promedio de las transacciones que se realizan en cada merchant_id."
   ]
  },
  {
   "cell_type": "markdown",
   "id": "859cc945",
   "metadata": {},
   "source": [
    "### Base de datos con cantidad de transacciones, monto promedio y monto total por dia"
   ]
  },
  {
   "cell_type": "code",
   "execution_count": 8,
   "id": "f65f4049",
   "metadata": {},
   "outputs": [],
   "source": [
    "## add a day column to the original dataframe\n",
    "data[\"day\"]=data[\"transaction_date\"].dt.date"
   ]
  },
  {
   "cell_type": "code",
   "execution_count": null,
   "id": "96b4b02e",
   "metadata": {},
   "outputs": [],
   "source": [
    "## group by day and user_id the number of transactions and the average value as well as the total value of transactions\n",
    "temp_data_user_id=data.groupby([\"day\",\"merchant_id\",\"transaction_type\",\"user_id\"])[\"transaction_amount\"].agg([\"sum\",\"count\",\"mean\"])"
   ]
  },
  {
   "cell_type": "code",
   "execution_count": null,
   "id": "f292a7b9",
   "metadata": {},
   "outputs": [],
   "source": [
    "## rename the columns\n",
    "temp_data_user_id.columns=[\"total amount per day\",\"number of transactions\",\"average amount of transactions\"]"
   ]
  },
  {
   "cell_type": "code",
   "execution_count": 22,
   "id": "cb311f8a",
   "metadata": {
    "scrolled": true
   },
   "outputs": [
    {
     "data": {
      "text/html": [
       "<div>\n",
       "<style scoped>\n",
       "    .dataframe tbody tr th:only-of-type {\n",
       "        vertical-align: middle;\n",
       "    }\n",
       "\n",
       "    .dataframe tbody tr th {\n",
       "        vertical-align: top;\n",
       "    }\n",
       "\n",
       "    .dataframe thead th {\n",
       "        text-align: right;\n",
       "    }\n",
       "</style>\n",
       "<table border=\"1\" class=\"dataframe\">\n",
       "  <thead>\n",
       "    <tr style=\"text-align: right;\">\n",
       "      <th></th>\n",
       "      <th></th>\n",
       "      <th></th>\n",
       "      <th></th>\n",
       "      <th>total amount per day</th>\n",
       "      <th>number of transactions</th>\n",
       "      <th>average amount of transactions</th>\n",
       "    </tr>\n",
       "    <tr>\n",
       "      <th>day</th>\n",
       "      <th>merchant_id</th>\n",
       "      <th>transaction_type</th>\n",
       "      <th>user_id</th>\n",
       "      <th></th>\n",
       "      <th></th>\n",
       "      <th></th>\n",
       "    </tr>\n",
       "  </thead>\n",
       "  <tbody>\n",
       "    <tr>\n",
       "      <th rowspan=\"5\" valign=\"top\">2021-01-01</th>\n",
       "      <th rowspan=\"5\" valign=\"top\">075d178871d8d48502bf1f54887e52fe</th>\n",
       "      <th rowspan=\"5\" valign=\"top\">CREDITO</th>\n",
       "      <th>01ff1fcaa1fe2fc35e1310a9081022a4</th>\n",
       "      <td>59.444550</td>\n",
       "      <td>1</td>\n",
       "      <td>59.444550</td>\n",
       "    </tr>\n",
       "    <tr>\n",
       "      <th>086b3ad64d466f4db74aa9c9a6df4359</th>\n",
       "      <td>107.000190</td>\n",
       "      <td>1</td>\n",
       "      <td>107.000190</td>\n",
       "    </tr>\n",
       "    <tr>\n",
       "      <th>1d56d354a5789d924d8705b60d51d3ea</th>\n",
       "      <td>27.344493</td>\n",
       "      <td>1</td>\n",
       "      <td>27.344493</td>\n",
       "    </tr>\n",
       "    <tr>\n",
       "      <th>3e1cf6b759eca1a376b0a870dd95c871</th>\n",
       "      <td>57.066768</td>\n",
       "      <td>1</td>\n",
       "      <td>57.066768</td>\n",
       "    </tr>\n",
       "    <tr>\n",
       "      <th>51d5fc5c0608eddb1fa12c732b0de0fd</th>\n",
       "      <td>356.667301</td>\n",
       "      <td>1</td>\n",
       "      <td>356.667301</td>\n",
       "    </tr>\n",
       "  </tbody>\n",
       "</table>\n",
       "</div>"
      ],
      "text/plain": [
       "                                                                                               total amount per day  \\\n",
       "day        merchant_id                      transaction_type user_id                                                  \n",
       "2021-01-01 075d178871d8d48502bf1f54887e52fe CREDITO          01ff1fcaa1fe2fc35e1310a9081022a4             59.444550   \n",
       "                                                             086b3ad64d466f4db74aa9c9a6df4359            107.000190   \n",
       "                                                             1d56d354a5789d924d8705b60d51d3ea             27.344493   \n",
       "                                                             3e1cf6b759eca1a376b0a870dd95c871             57.066768   \n",
       "                                                             51d5fc5c0608eddb1fa12c732b0de0fd            356.667301   \n",
       "\n",
       "                                                                                               number of transactions  \\\n",
       "day        merchant_id                      transaction_type user_id                                                    \n",
       "2021-01-01 075d178871d8d48502bf1f54887e52fe CREDITO          01ff1fcaa1fe2fc35e1310a9081022a4                       1   \n",
       "                                                             086b3ad64d466f4db74aa9c9a6df4359                       1   \n",
       "                                                             1d56d354a5789d924d8705b60d51d3ea                       1   \n",
       "                                                             3e1cf6b759eca1a376b0a870dd95c871                       1   \n",
       "                                                             51d5fc5c0608eddb1fa12c732b0de0fd                       1   \n",
       "\n",
       "                                                                                               average amount of transactions  \n",
       "day        merchant_id                      transaction_type user_id                                                           \n",
       "2021-01-01 075d178871d8d48502bf1f54887e52fe CREDITO          01ff1fcaa1fe2fc35e1310a9081022a4                       59.444550  \n",
       "                                                             086b3ad64d466f4db74aa9c9a6df4359                      107.000190  \n",
       "                                                             1d56d354a5789d924d8705b60d51d3ea                       27.344493  \n",
       "                                                             3e1cf6b759eca1a376b0a870dd95c871                       57.066768  \n",
       "                                                             51d5fc5c0608eddb1fa12c732b0de0fd                      356.667301  "
      ]
     },
     "execution_count": 22,
     "metadata": {},
     "output_type": "execute_result"
    }
   ],
   "source": [
    "## watch the schema of the dataframe we creaed\n",
    "temp_data_user_id.head()"
   ]
  },
  {
   "cell_type": "code",
   "execution_count": 23,
   "id": "b296236e",
   "metadata": {},
   "outputs": [
    {
     "data": {
      "text/html": [
       "<div>\n",
       "<style scoped>\n",
       "    .dataframe tbody tr th:only-of-type {\n",
       "        vertical-align: middle;\n",
       "    }\n",
       "\n",
       "    .dataframe tbody tr th {\n",
       "        vertical-align: top;\n",
       "    }\n",
       "\n",
       "    .dataframe thead th {\n",
       "        text-align: right;\n",
       "    }\n",
       "</style>\n",
       "<table border=\"1\" class=\"dataframe\">\n",
       "  <thead>\n",
       "    <tr style=\"text-align: right;\">\n",
       "      <th></th>\n",
       "      <th>total amount per day</th>\n",
       "      <th>number of transactions</th>\n",
       "      <th>average amount of transactions</th>\n",
       "    </tr>\n",
       "  </thead>\n",
       "  <tbody>\n",
       "    <tr>\n",
       "      <th>count</th>\n",
       "      <td>1.853314e+07</td>\n",
       "      <td>1.853314e+07</td>\n",
       "      <td>1.853314e+07</td>\n",
       "    </tr>\n",
       "    <tr>\n",
       "      <th>mean</th>\n",
       "      <td>2.220869e+02</td>\n",
       "      <td>1.160997e+00</td>\n",
       "      <td>1.875438e+02</td>\n",
       "    </tr>\n",
       "    <tr>\n",
       "      <th>std</th>\n",
       "      <td>3.245510e+02</td>\n",
       "      <td>1.672375e+00</td>\n",
       "      <td>2.252182e+02</td>\n",
       "    </tr>\n",
       "    <tr>\n",
       "      <th>min</th>\n",
       "      <td>5.944455e+00</td>\n",
       "      <td>1.000000e+00</td>\n",
       "      <td>5.944455e+00</td>\n",
       "    </tr>\n",
       "    <tr>\n",
       "      <th>25%</th>\n",
       "      <td>4.755564e+01</td>\n",
       "      <td>1.000000e+00</td>\n",
       "      <td>4.755564e+01</td>\n",
       "    </tr>\n",
       "    <tr>\n",
       "      <th>50%</th>\n",
       "      <td>1.188891e+02</td>\n",
       "      <td>1.000000e+00</td>\n",
       "      <td>1.188891e+02</td>\n",
       "    </tr>\n",
       "    <tr>\n",
       "      <th>75%</th>\n",
       "      <td>2.377782e+02</td>\n",
       "      <td>1.000000e+00</td>\n",
       "      <td>2.377782e+02</td>\n",
       "    </tr>\n",
       "    <tr>\n",
       "      <th>max</th>\n",
       "      <td>1.836171e+04</td>\n",
       "      <td>2.880000e+02</td>\n",
       "      <td>4.624786e+03</td>\n",
       "    </tr>\n",
       "  </tbody>\n",
       "</table>\n",
       "</div>"
      ],
      "text/plain": [
       "       total amount per day  number of transactions  \\\n",
       "count          1.853314e+07            1.853314e+07   \n",
       "mean           2.220869e+02            1.160997e+00   \n",
       "std            3.245510e+02            1.672375e+00   \n",
       "min            5.944455e+00            1.000000e+00   \n",
       "25%            4.755564e+01            1.000000e+00   \n",
       "50%            1.188891e+02            1.000000e+00   \n",
       "75%            2.377782e+02            1.000000e+00   \n",
       "max            1.836171e+04            2.880000e+02   \n",
       "\n",
       "       average amount of transactions  \n",
       "count                    1.853314e+07  \n",
       "mean                     1.875438e+02  \n",
       "std                      2.252182e+02  \n",
       "min                      5.944455e+00  \n",
       "25%                      4.755564e+01  \n",
       "50%                      1.188891e+02  \n",
       "75%                      2.377782e+02  \n",
       "max                      4.624786e+03  "
      ]
     },
     "execution_count": 23,
     "metadata": {},
     "output_type": "execute_result"
    }
   ],
   "source": [
    "temp_data_user_id[[\"total amount per day\",\"number of transactions\",\"average amount of transactions\"]].describe()"
   ]
  },
  {
   "cell_type": "markdown",
   "id": "8ffe2f0a",
   "metadata": {},
   "source": [
    "Vemos que hay usarios que han hecho hasta 288 transacciones en un mismo dia, aun cuando la gran mayoria de clientes solo hacen una transacción diaria, estos son probablmente los que son sospechosos de realizar fraccionamiento transaccional, además, el monto promedio minimo de las transacciones tambien es bajo comparado con la distribución de esta variable, por lo que puede corresponder al comportamiento transaccional de las personas que hacen fraccionamiento."
   ]
  },
  {
   "cell_type": "markdown",
   "id": "608a6ae0",
   "metadata": {},
   "source": [
    "### Decidir que montos y cantidad de transacciones corresponden a un comportamiento extraño"
   ]
  },
  {
   "cell_type": "code",
   "execution_count": null,
   "id": "8ff9ee99",
   "metadata": {},
   "outputs": [],
   "source": [
    "## define a function to calculate the percentile which corresponds to a extrange behaviour\n",
    "def percentile(n):\n",
    "    def percentile_(x):\n",
    "        return np.percentile(x, n)\n",
    "    percentile_.__name__ = 'percentile_%s' % n\n",
    "    return percentile_"
   ]
  },
  {
   "cell_type": "code",
   "execution_count": null,
   "id": "3a478a35",
   "metadata": {},
   "outputs": [],
   "source": [
    "## format some variables\n",
    "temp_data_user_id=temp_data_user_id.reset_index()\n",
    "temp_data_user_id[\"day\"]=pd.to_datetime(temp_data_user_id[\"day\"])"
   ]
  },
  {
   "cell_type": "code",
   "execution_count": null,
   "id": "8cdf06c7",
   "metadata": {},
   "outputs": [],
   "source": [
    "## define a dataframe with the percentiles grouped by months\n",
    "temp_graph_number_transactions=temp_data_user_id.groupby([\"merchant_id\",\"transaction_type\",\n",
    "                                pd.Grouper(key=\"day\",freq=\"M\")])[\"number of transactions\"].\\\n",
    "                                agg([\"count\",\n",
    "                                     percentile(97),\n",
    "                                     percentile(98),\n",
    "                                     percentile(99),\n",
    "                                     percentile(99.5),\n",
    "                                     percentile(99.9),\n",
    "                                     percentile(99.99),\n",
    "                                     percentile(99.999),\n",
    "                                     percentile(100)]).reset_index()"
   ]
  },
  {
   "cell_type": "code",
   "execution_count": 2,
   "id": "3e53cce8",
   "metadata": {},
   "outputs": [
    {
     "name": "stdout",
     "output_type": "stream",
     "text": [
      "ver el grafico en html\n"
     ]
    }
   ],
   "source": [
    "## grafica de la evolución de los diferentes percentiles del numero de transacciones diario por cada user_id\n",
    "merch_list=list(temp_graph_number_transactions[\"merchant_id\"].unique())\n",
    "type_list=list(temp_graph_number_transactions[\"transaction_type\"].unique())\n",
    "\n",
    "fig = make_subplots(rows=3, cols=2,shared_xaxes=True,\n",
    "                    column_titles=type_list,\n",
    "                    row_titles=[i[0:5] for i in merch_list],\n",
    "                    x_title=\"Mes del año\",\n",
    "                    y_title=\"Número de transacciones\")\n",
    "\n",
    "col_list=['percentile_97', 'percentile_98', 'percentile_99',\n",
    "          'percentile_99.5', 'percentile_99.9', 'percentile_99.99',\n",
    "          'percentile_99.999', 'percentile_100']\n",
    "\n",
    "for i in range(len(merch_list)):\n",
    "    for j in range(len(type_list)):\n",
    "        for x in col_list:\n",
    "            fig.add_trace(go.Scatter(x=temp_graph_number_transactions[(temp_graph_number_transactions[\"merchant_id\"]==merch_list[i]) &\\\n",
    "                                           (temp_graph_number_transactions[\"transaction_type\"]==type_list[j])][\"day\"],\n",
    "                                     y=temp_graph_number_transactions[(temp_graph_number_transactions[\"merchant_id\"]==merch_list[i]) &\\\n",
    "                                           (temp_graph_number_transactions[\"transaction_type\"]==type_list[j])][x],legendgroup=x,name=x),row=i+1, col=j+1)\n",
    "               \n",
    "fig.update_layout(showlegend=True,\n",
    "                  title_text=\"Grafica de evolución de los percentiles en el tiempo por merchant_id y tipo de transacción\",\n",
    "                  height=1000,width=1200)\n",
    "\n",
    "##############################################\n",
    "## para ver la grafica sin correr el código ##\n",
    "##############################################\n",
    "fig.write_html(\"Graphs/figura_1.html\")\n",
    "fig.show()\n",
    "print(\"ver el grafico en html\")"
   ]
  },
  {
   "cell_type": "code",
   "execution_count": 17,
   "id": "299579d4",
   "metadata": {},
   "outputs": [],
   "source": [
    "# define a dataframe with the percentiles grouped by months\n",
    "temp_graph_value_transactions=temp_data_user_id.groupby([\"merchant_id\",\"transaction_type\",\n",
    "                                pd.Grouper(key=\"day\",freq=\"M\")])[\"average amount of transactions\"].\\\n",
    "                                agg([\"count\",\n",
    "                                     percentile(50),\n",
    "                                     percentile(2),\n",
    "                                     percentile(1),\n",
    "                                     percentile(0.5),\n",
    "                                     percentile(5),\n",
    "                                     percentile(4),\n",
    "                                     percentile(3),\n",
    "                                     percentile(0)]).reset_index()"
   ]
  },
  {
   "cell_type": "code",
   "execution_count": 1,
   "id": "bd4a7abf",
   "metadata": {},
   "outputs": [
    {
     "name": "stdout",
     "output_type": "stream",
     "text": [
      "ver el grafico en html\n"
     ]
    }
   ],
   "source": [
    "## graph with the percentiles for the average value of transactions over time\n",
    "fig = make_subplots(rows=3, cols=2,shared_xaxes=True,\n",
    "                    column_titles=type_list,\n",
    "                    row_titles=[i[0:5] for i in merch_list],\n",
    "                    x_title=\"Mes del año\",\n",
    "                    y_title=\"Monto promedio de las transacciones\")\n",
    "\n",
    "col_list=['percentile_50','percentile_2', 'percentile_1', 'percentile_0.5',\n",
    "          'percentile_5', 'percentile_4', 'percentile_3',\n",
    "          'percentile_0']\n",
    "\n",
    "for i in range(len(merch_list)):\n",
    "    for j in range(len(type_list)):\n",
    "        for x in col_list:\n",
    "            fig.add_trace(go.Scatter(x=temp_graph_value_transactions[(temp_graph_value_transactions[\"merchant_id\"]==merch_list[i]) &\\\n",
    "                                           (temp_graph_value_transactions[\"transaction_type\"]==type_list[j])][\"day\"],\n",
    "                                     y=temp_graph_value_transactions[(temp_graph_value_transactions[\"merchant_id\"]==merch_list[i]) &\\\n",
    "                                           (temp_graph_value_transactions[\"transaction_type\"]==type_list[j])][x],legendgroup=x,name=x),row=i+1, col=j+1)\n",
    "               \n",
    "fig.update_layout(showlegend=True,\n",
    "                  title_text=\"Grafica de evolución de los percentiles del monto promedio en el tiempo por merchant_id y tipo de transacción\",\n",
    "                  height=1000,width=1200)\n",
    "\n",
    "##############################################\n",
    "## para ver la grafica sin correr el código ##\n",
    "##############################################\n",
    "fig.write_html(\"Graphs/figura_2.html\")\n",
    "fig.show()\n",
    "print(\"ver el grafico en html\")"
   ]
  },
  {
   "cell_type": "code",
   "execution_count": null,
   "id": "776d74e1",
   "metadata": {},
   "outputs": [],
   "source": [
    "## delete variables we are no longer using\n",
    "del data"
   ]
  },
  {
   "cell_type": "markdown",
   "id": "0ef9d286",
   "metadata": {},
   "source": [
    "En las gráficas anteriores podemos observar que, para los merchant_ids comenzados por 838a8 y 075d1, en los 3 primeros meses del año hubo comportamientos bastante atipicos en cuanto al número de transacciones y monto de las mismas, ya que se hacían muchas transacciones pero con bajos montos. Luego de estos 3 primeros meses se normalizo, además, vemos que para estos merchant_ids no tenemos información de transacciones debito para los últimos meses del año. \n",
    "\n",
    "Por otra parte, para el merchant_id comenzado por 817d1 se puede observar que el número de transacciones nunca alcanzo variaciones extremas y que el monto de los mismos es bastante estable por lo que, dado que los percentiles del monto promedio de mantienen estable a través del tiempo, es posible que los montos usados para este merchant_id sean fijos por rangos.\n",
    "\n",
    "En la segunda grafica se incluyó también el percentil 50 para ver si los datos tienen variabilidad o no, pero se puede excluir de la gráfica fácilmente clicando la leyenda.\n",
    "\n",
    "<b>HIPÓTESIS:</b>\n",
    "\n",
    "- El comportamiento de fraccionamiento transaccional fue detectado por la entidad los primeros meses del año y se controló para los siguiente periodos, prohibiendo muchas transacciones por parte de un mismo user_id en un día.\n",
    "- Existe algún tipo de componente estacionario, en el que en los primeros meses del año es cuando más se realizan estos comportamientos fraudulentos. Si este fuera el caso, se debería plantear un modelo en el que se añadiera un componente estacionario\n",
    "- Dado que los merchant_id comenzados por 838a8 y 075d1 no tienen transacciones DEBITO en los últimos meses es posible que se hayan prohibido las transacciones de este tipo en ese merchant_id (también es posible que los parquets que poseemos no contengan la información completa para estos merchant_id, sin embargo, dado que no tenemos más información, se trabajara con la hipótesis planteada).\n",
    "\n",
    "<b>CONCLUSIONES EDA:</b>\n",
    "- Para realizar un modelo experto, es muy importante definir reglas para cada tipo de merchant_id y para cada tipo de transacción.\n",
    "- Es una limitante tener información de un solo año ya que no se puede analizar si hay algún tipo de estacionalidad por meses, por lo que, si se tuviera más data, se debería analizar esta hipótesis para definir las reglas dependiendo de esta estacionalidad, ya que tampoco quisiéramos limitar a los clientes que usen mucho la aplicación porque se confundan con comportamientos fraudulentos.\n",
    "\n"
   ]
  },
  {
   "cell_type": "markdown",
   "id": "ba2573b9",
   "metadata": {},
   "source": [
    "# Punto 3"
   ]
  },
  {
   "cell_type": "markdown",
   "id": "1aa1a166",
   "metadata": {},
   "source": [
    "## Modelo experto enfocado a la prevención del fraude y no a la detección de usuarios fraudulentos.\n",
    "Este modelo se usa para plantear límites de transacciones dependiendo del canal y el tipo de transacciones con el fin de evitar que los usuarios hagan comportamientos fraudulentos.\n",
    "\n",
    "Este modelo funciona especialmene para los clientes que son nuevos y que no podemos perfilar de manera facil por su comportamiento transaccional. Por lo que estas reglas previenen que estos clientes que son nuevos hagan fraude."
   ]
  },
  {
   "cell_type": "markdown",
   "id": "95f4b9d0",
   "metadata": {},
   "source": [
    "#### Reglas transaccionales\n",
    "\n",
    "Dado el análisis que se hizo en la etapa del EDA, se plantean las siguientes reglas transaccionales, con el fin de prevenir el fraude:\n",
    "\n",
    "merchant_id=\"075d178871d8d48502bf1f54887e52fe\"\n",
    "- No más del percentil 99.9% del número de transacciones CREDITO por menos del percentil 3% de las transacciones realizadas en el mes anterior, por usuario en un mismo día.\n",
    "- No vale la pena generar reglas para las transacciones DEBITO ya que según vimos en el EDA, es posible que están prohibidas\n",
    "\n",
    "merchant_id=\"817d18cd3c31e40e9bff0566baae7758\"\n",
    "- No más del percentil 99.9% del número de transacciones CREDITO por menos del percentil 2% de las transacciones realizadas en el mes anterior, por usuario en un mismo día.\n",
    "- No más del percentil 99.9% del número de transacciones DEBITO por menos del percentil 3% de las transacciones realizadas en el mes anterior, por usuario en un mismo día.\n",
    "\n",
    "merchant_id=\"838a8fa992a4aa2fb5a0cf8b15b63755\"\n",
    "- No más del percentil 98% del número de transacciones CREDITO por menos del percentil 2% de las transacciones realizadas en el mes anterior, por usuario en un mismo día.\n",
    "- No vale la pena generar reglas para las transacciones DEBITO ya que según vimos en el EDA, es posible que estén prohibidas.\n"
   ]
  },
  {
   "cell_type": "markdown",
   "id": "9ad5fc72",
   "metadata": {},
   "source": [
    "## Modelo analítico que agrupa a clientes e identifica comportamientos atipicos"
   ]
  },
  {
   "cell_type": "markdown",
   "id": "b4b88d49",
   "metadata": {},
   "source": [
    "### Construcción de la base de datos"
   ]
  },
  {
   "cell_type": "markdown",
   "id": "1b304c6c",
   "metadata": {},
   "source": [
    "Definición de la base de datos que va a alimentar el modelo de agrupación:\n",
    "\n",
    "<b>GENERALES</b>\n",
    "\n",
    "- user_id.\n",
    "- G_1: Variable que contiene \"CREDITO\" si más del 66% de sus transacciones son crédito, \"DEBITO\" si más del 66% de sus transacciones son débito y \"BALANCEADO\" si ninguno de los dos se cumple. Esta variable se calcula con las transacciones de los últimos 3 meses.\n",
    "- G_2: Mediana de 3 meses del balance al final del mes del total del monto CREDITO meno el total del monto DEBITO en el mes.\n",
    "\n",
    "\n",
    "<b>CRÉDITO</b>\n",
    "\n",
    "- C_1: Mediana de 3 meses del número de transacciones a la semana.\n",
    "- C_2: Mediana de 3 meses del número total de transacciones al mes.\n",
    "- C_3: Mediana de 3 meses del monto total de transacciones al mes.\n",
    "- C_4: Mediana de 3 meses del monto promedio de las transacciones en el día.\n",
    "- C_5: Mediana de 3 meses del monto total de transacciones semanales.\n",
    "- C_6: Merchant_id al que más transacciones Crédito realiza (Es una variable categórica por lo que es probable que se necesite un k-prototypes).\n",
    "\n",
    "<b>DEBITO</b>\n",
    "\n",
    "- D_1: Mediana de 3 meses del número de transacciones a la semana.\n",
    "- D_2: Mediana de 3 meses del número total de transacciones al mes.\n",
    "- D_3: Mediana de 3 meses del monto total de transacciones al mes.\n",
    "- D_4: Mediana de 3 meses del monto promedio de las transacciones en el día.\n",
    "- D_5: Mediana de 3 meses del monto total de transacciones semanales.\n",
    "- D_6: Merchant_id al que más transacciones Debito realiza (Es una variable categórica por lo que es probable que se necesite un k-prototypes).\n",
    "\n",
    "<b> TRANSACCIONALES </b>\n",
    "- T_1: Promedio de días entre transacciones.\n",
    "\n",
    "<b>VARIABLES PERSONALES</b>\n",
    "\n",
    "- NOTA: Seria de gran ayuda si tuviéramos más variables cualitativas del cliente como la edad, actividad económica y demás, pero, como no tenemos más variables se trabajara solo con variables transaccionales.\n"
   ]
  },
  {
   "cell_type": "markdown",
   "id": "a8a1d9b0",
   "metadata": {},
   "source": [
    "### Dividir la base de datos para quedarnos con la parte que vamos a usar para estimar el modelo (3 meses )"
   ]
  },
  {
   "cell_type": "code",
   "execution_count": null,
   "id": "646c6343",
   "metadata": {},
   "outputs": [],
   "source": [
    "## this division cant be made on a random way because the date of the transactions is very important\n",
    "train_data=temp_data_user_id[temp_data_user_id[\"day\"]<\"2021-07-01\"]\n",
    "test_data=temp_data_user_id[temp_data_user_id[\"day\"]>=\"2021-07-01\"]"
   ]
  },
  {
   "cell_type": "markdown",
   "id": "37312f04",
   "metadata": {},
   "source": [
    "### Tratamiento de datos atipicos y flujo de datos\n",
    "\n",
    "En cuanto al flujo de los datos, se propone cargar tan solo los fragmentos parquet que contengan la información transaccional de los ultimos 3 meses del cliente. Sin embargo, en caso de que las particiones en los parquet no sean tan exactas, dentro del script se hace la division de los datos."
   ]
  },
  {
   "cell_type": "code",
   "execution_count": 23,
   "id": "37228e4a",
   "metadata": {},
   "outputs": [
    {
     "data": {
      "text/html": [
       "<div>\n",
       "<style scoped>\n",
       "    .dataframe tbody tr th:only-of-type {\n",
       "        vertical-align: middle;\n",
       "    }\n",
       "\n",
       "    .dataframe tbody tr th {\n",
       "        vertical-align: top;\n",
       "    }\n",
       "\n",
       "    .dataframe thead th {\n",
       "        text-align: right;\n",
       "    }\n",
       "</style>\n",
       "<table border=\"1\" class=\"dataframe\">\n",
       "  <thead>\n",
       "    <tr style=\"text-align: right;\">\n",
       "      <th></th>\n",
       "      <th>day</th>\n",
       "      <th>merchant_id</th>\n",
       "      <th>transaction_type</th>\n",
       "      <th>user_id</th>\n",
       "      <th>total amount per day</th>\n",
       "      <th>number of transactions</th>\n",
       "      <th>average amount of transactions</th>\n",
       "    </tr>\n",
       "  </thead>\n",
       "  <tbody>\n",
       "    <tr>\n",
       "      <th>0</th>\n",
       "      <td>2021-01-01</td>\n",
       "      <td>075d178871d8d48502bf1f54887e52fe</td>\n",
       "      <td>CREDITO</td>\n",
       "      <td>01ff1fcaa1fe2fc35e1310a9081022a4</td>\n",
       "      <td>59.444550</td>\n",
       "      <td>1</td>\n",
       "      <td>59.444550</td>\n",
       "    </tr>\n",
       "    <tr>\n",
       "      <th>1</th>\n",
       "      <td>2021-01-01</td>\n",
       "      <td>075d178871d8d48502bf1f54887e52fe</td>\n",
       "      <td>CREDITO</td>\n",
       "      <td>086b3ad64d466f4db74aa9c9a6df4359</td>\n",
       "      <td>107.000190</td>\n",
       "      <td>1</td>\n",
       "      <td>107.000190</td>\n",
       "    </tr>\n",
       "    <tr>\n",
       "      <th>2</th>\n",
       "      <td>2021-01-01</td>\n",
       "      <td>075d178871d8d48502bf1f54887e52fe</td>\n",
       "      <td>CREDITO</td>\n",
       "      <td>1d56d354a5789d924d8705b60d51d3ea</td>\n",
       "      <td>27.344493</td>\n",
       "      <td>1</td>\n",
       "      <td>27.344493</td>\n",
       "    </tr>\n",
       "    <tr>\n",
       "      <th>3</th>\n",
       "      <td>2021-01-01</td>\n",
       "      <td>075d178871d8d48502bf1f54887e52fe</td>\n",
       "      <td>CREDITO</td>\n",
       "      <td>3e1cf6b759eca1a376b0a870dd95c871</td>\n",
       "      <td>57.066768</td>\n",
       "      <td>1</td>\n",
       "      <td>57.066768</td>\n",
       "    </tr>\n",
       "    <tr>\n",
       "      <th>4</th>\n",
       "      <td>2021-01-01</td>\n",
       "      <td>075d178871d8d48502bf1f54887e52fe</td>\n",
       "      <td>CREDITO</td>\n",
       "      <td>51d5fc5c0608eddb1fa12c732b0de0fd</td>\n",
       "      <td>356.667301</td>\n",
       "      <td>1</td>\n",
       "      <td>356.667301</td>\n",
       "    </tr>\n",
       "  </tbody>\n",
       "</table>\n",
       "</div>"
      ],
      "text/plain": [
       "         day                       merchant_id transaction_type  \\\n",
       "0 2021-01-01  075d178871d8d48502bf1f54887e52fe          CREDITO   \n",
       "1 2021-01-01  075d178871d8d48502bf1f54887e52fe          CREDITO   \n",
       "2 2021-01-01  075d178871d8d48502bf1f54887e52fe          CREDITO   \n",
       "3 2021-01-01  075d178871d8d48502bf1f54887e52fe          CREDITO   \n",
       "4 2021-01-01  075d178871d8d48502bf1f54887e52fe          CREDITO   \n",
       "\n",
       "                            user_id  total amount per day  \\\n",
       "0  01ff1fcaa1fe2fc35e1310a9081022a4             59.444550   \n",
       "1  086b3ad64d466f4db74aa9c9a6df4359            107.000190   \n",
       "2  1d56d354a5789d924d8705b60d51d3ea             27.344493   \n",
       "3  3e1cf6b759eca1a376b0a870dd95c871             57.066768   \n",
       "4  51d5fc5c0608eddb1fa12c732b0de0fd            356.667301   \n",
       "\n",
       "   number of transactions  average amount of transactions  \n",
       "0                       1                       59.444550  \n",
       "1                       1                      107.000190  \n",
       "2                       1                       27.344493  \n",
       "3                       1                       57.066768  \n",
       "4                       1                      356.667301  "
      ]
     },
     "execution_count": 23,
     "metadata": {},
     "output_type": "execute_result"
    }
   ],
   "source": [
    "## first, we treat the data that feed our entire model\n",
    "train_data.head()"
   ]
  },
  {
   "cell_type": "code",
   "execution_count": null,
   "id": "f0c70e6d",
   "metadata": {},
   "outputs": [],
   "source": [
    "## filter the data for just the last 3 months which is the data that we need to estimate the model.\n",
    "first_date=train_data[\"day\"].max()-timedelta(days=90)\n",
    "train_data=train_data[train_data[\"day\"]>=first_date]"
   ]
  },
  {
   "cell_type": "code",
   "execution_count": null,
   "id": "a66723b6",
   "metadata": {},
   "outputs": [],
   "source": [
    "## replace the merchant_id for a discrete number\n",
    "train_data[\"merchant_id\"]=train_data[\"merchant_id\"].replace(list(train_data[\"merchant_id\"].unique()),[1,2,3])"
   ]
  },
  {
   "cell_type": "code",
   "execution_count": null,
   "id": "dd4da702",
   "metadata": {},
   "outputs": [],
   "source": [
    "## create a copy to save the merchant_id\n",
    "train_data_1=train_data.copy(deep=True)\n",
    "\n",
    "## create another dataframe that contains merchant_id and just group data by credit and debit.\n",
    "train_data=train_data.groupby([\"day\",\"transaction_type\",\"user_id\"])[[\"total amount per day\",\"number of transactions\"]].sum().reset_index()\n",
    "train_data[\"average amount of transactions\"]=train_data[\"total amount per day\"]/train_data[\"number of transactions\"]"
   ]
  },
  {
   "cell_type": "code",
   "execution_count": null,
   "id": "3b1fec77",
   "metadata": {},
   "outputs": [],
   "source": [
    "## calculate the tresholds to detect atypical values in our data\n",
    "## here we use the classic aproximation of finding atypical values with distance in standar_deviations from the mean\n",
    "\n",
    "## it is important to treat different credit and debit transactions because in the EDA we observed that \n",
    "## those 2 types of transactions hava a different behaviour\n",
    "\n",
    "## for the number of transactions\n",
    "no_tran_tresh_cre=max(train_data[train_data[\"transaction_type\"]==\"CREDITO\"][\"number of transactions\"].mean()+2*train_data[train_data[\"transaction_type\"]==\"CREDITO\"][\"number of transactions\"].std(),4)\n",
    "no_tran_tresh_deb=max(train_data[train_data[\"transaction_type\"]==\"DEBITO\"][\"number of transactions\"].mean()+2*train_data[train_data[\"transaction_type\"]==\"DEBITO\"][\"number of transactions\"].std(),4)\n",
    "\n",
    "## for the total amount per day\n",
    "total_value_day_tresh_cre=train_data[train_data[\"transaction_type\"]==\"CREDITO\"][\"total amount per day\"].mean()+2*train_data[train_data[\"transaction_type\"]==\"CREDITO\"][\"total amount per day\"].std()\n",
    "total_value_day_tresh_deb=train_data[train_data[\"transaction_type\"]==\"DEBITO\"][\"total amount per day\"].mean()+2*train_data[train_data[\"transaction_type\"]==\"DEBITO\"][\"total amount per day\"].std()\n",
    "\n",
    "## for the average of transaction value per day\n",
    "avg_value_day_tresh_cre=train_data[train_data[\"transaction_type\"]==\"CREDITO\"][\"average amount of transactions\"].mean()+2*train_data[train_data[\"transaction_type\"]==\"CREDITO\"][\"average amount of transactions\"].std()\n",
    "avg_value_day_tresh_deb=train_data[train_data[\"transaction_type\"]==\"DEBITO\"][\"average amount of transactions\"].mean()+2*train_data[train_data[\"transaction_type\"]==\"DEBITO\"][\"average amount of transactions\"].std()"
   ]
  },
  {
   "cell_type": "code",
   "execution_count": null,
   "id": "d3e6a564",
   "metadata": {},
   "outputs": [],
   "source": [
    "## replace atyplical values for the treshold\n",
    "train_data.loc[(train_data[\"transaction_type\"]==\"CREDITO\")&(train_data[\"number of transactions\"]>=no_tran_tresh_cre),\"number of transactions\"]=no_tran_tresh_cre\n",
    "train_data.loc[(train_data[\"transaction_type\"]==\"DEBITO\")&(train_data[\"number of transactions\"]>=no_tran_tresh_deb),\"number of transactions\"]=no_tran_tresh_deb\n",
    "train_data.loc[(train_data[\"transaction_type\"]==\"CREDITO\")&(train_data[\"total amount per day\"]>=total_value_day_tresh_cre),\"total amount per day\"]=total_value_day_tresh_cre\n",
    "train_data.loc[(train_data[\"transaction_type\"]==\"DEBITO\")&(train_data[\"total amount per day\"]>=total_value_day_tresh_deb),\"total amount per day\"]=total_value_day_tresh_deb\n",
    "train_data.loc[(train_data[\"transaction_type\"]==\"CREDITO\")&(train_data[\"average amount of transactions\"]>=avg_value_day_tresh_cre),\"average amount of transactions\"]=avg_value_day_tresh_cre\n",
    "train_data.loc[(train_data[\"transaction_type\"]==\"DEBITO\")&(train_data[\"average amount of transactions\"]>=avg_value_day_tresh_deb),\"average amount of transactions\"]=avg_value_day_tresh_deb"
   ]
  },
  {
   "cell_type": "code",
   "execution_count": 3,
   "id": "9cb9a0a7",
   "metadata": {},
   "outputs": [
    {
     "name": "stdout",
     "output_type": "stream",
     "text": [
      "ver el grafico en html\n"
     ]
    }
   ],
   "source": [
    "fig = make_subplots(rows=3, cols=1,shared_xaxes=False,\n",
    "                    subplot_titles=[\"Histograma del monto total por dia\",\n",
    "                                  \"Histograma del numero de transacciones por dia\",\n",
    "                                  \"histograma del monto promedio por dia\"],\n",
    "                    x_title=\"Cantidad de clientes\")\n",
    "\n",
    "col_list=['total amount per day','number of transactions', 'average amount of transactions']\n",
    "\n",
    "for i in range(len(col_list)):\n",
    "    fig.add_trace(go.Histogram(x=train_data[col_list[i]],legendgroup=col_list[i],name=col_list[i],\n",
    "                              nbinsx=50),row=i+1, col=1)\n",
    "\n",
    "fig.update_layout(showlegend=False,\n",
    "                  title_text=\"Histogramas de las variables luego del tratamiento\",\n",
    "                  height=1000,width=800)\n",
    "\n",
    "##############################################\n",
    "## para ver la grafica sin correr el código ##\n",
    "##############################################\n",
    "fig.write_html(\"Graphs/figure_3.html\")\n",
    "fig.show()\n",
    "print(\"ver el grafico en html\")"
   ]
  },
  {
   "cell_type": "markdown",
   "id": "3f7f68d8",
   "metadata": {},
   "source": [
    "### construcción de la base de datos usada en el modelo"
   ]
  },
  {
   "cell_type": "code",
   "execution_count": null,
   "id": "4199076c",
   "metadata": {},
   "outputs": [],
   "source": [
    "## begin by the average value of the transactions\n",
    "final_data=pd.DataFrame(train_data[train_data[\"transaction_type\"]==\"CREDITO\"].groupby(\"user_id\")['average amount of transactions'].median())\n",
    "\n",
    "## add the debit part\n",
    "final_data=pd.concat([final_data,train_data[train_data[\"transaction_type\"]==\"DEBITO\"].groupby(\"user_id\")['average amount of transactions'].median()],axis=1)\n",
    "final_data.columns=[\"C4\",\"D4\"]"
   ]
  },
  {
   "cell_type": "code",
   "execution_count": null,
   "id": "013d2120",
   "metadata": {},
   "outputs": [],
   "source": [
    "## dataframe to estimate c_1,c_5,D_1,D_5\n",
    "temp_w_data=train_data.groupby([\"transaction_type\",\"user_id\",pd.Grouper(key=\"day\",freq=\"W\")])[['total amount per day','number of transactions']].sum().reset_index()\n",
    "final_data[\"C_1\"]=temp_w_data[temp_w_data[\"transaction_type\"]==\"CREDITO\"].groupby(\"user_id\")[\"number of transactions\"].median()\n",
    "final_data[\"C_5\"]=temp_w_data[temp_w_data[\"transaction_type\"]==\"CREDITO\"].groupby(\"user_id\")['total amount per day'].median()\n",
    "final_data[\"D_1\"]=temp_w_data[temp_w_data[\"transaction_type\"]==\"DEBITO\"].groupby(\"user_id\")[\"number of transactions\"].median()\n",
    "final_data[\"D_5\"]=temp_w_data[temp_w_data[\"transaction_type\"]==\"DEBITO\"].groupby(\"user_id\")['total amount per day'].median()\n",
    "del temp_w_data"
   ]
  },
  {
   "cell_type": "code",
   "execution_count": null,
   "id": "ae61bdde",
   "metadata": {},
   "outputs": [],
   "source": [
    "## dataframe to estimate c_2,c_3,D_2,D_3\n",
    "temp_w_data=train_data.groupby([\"transaction_type\",\"user_id\",pd.Grouper(key=\"day\",freq=\"M\")])[['total amount per day','number of transactions']].sum().reset_index()\n",
    "final_data[\"C_2\"]=temp_w_data[temp_w_data[\"transaction_type\"]==\"CREDITO\"].groupby(\"user_id\")[\"number of transactions\"].median()\n",
    "final_data[\"C_3\"]=temp_w_data[temp_w_data[\"transaction_type\"]==\"CREDITO\"].groupby(\"user_id\")['total amount per day'].median()\n",
    "final_data[\"D_2\"]=temp_w_data[temp_w_data[\"transaction_type\"]==\"DEBITO\"].groupby(\"user_id\")[\"number of transactions\"].median()\n",
    "final_data[\"D_3\"]=temp_w_data[temp_w_data[\"transaction_type\"]==\"DEBITO\"].groupby(\"user_id\")['total amount per day'].median()\n",
    "del temp_w_data"
   ]
  },
  {
   "cell_type": "code",
   "execution_count": null,
   "id": "c5f92794",
   "metadata": {},
   "outputs": [],
   "source": [
    "## the average of days between transactions T_1\n",
    "train_data.sort_values(\"day\",inplace=True)\n",
    "temp_freq_data=train_data.groupby([\"user_id\",\"day\"])[\"number of transactions\"].sum().reset_index()\n",
    "temp_freq_data[\"diff\"]=list(temp_freq_data.groupby(\"user_id\")[\"day\"].diff())\n",
    "temp_freq_data=temp_freq_data.groupby(\"user_id\")[\"diff\"].mean()\n",
    "final_data[\"T_1\"]=temp_freq_data\n",
    "del temp_freq_data"
   ]
  },
  {
   "cell_type": "code",
   "execution_count": null,
   "id": "2fbd1cbf",
   "metadata": {},
   "outputs": [],
   "source": [
    "## to estimate G_2\n",
    "train_data[\"symbol_var\"]=[j*-1 if i==\"DEBITO\" else j for i,j in zip(train_data[\"transaction_type\"],train_data[\"total amount per day\"])]\n",
    "temp_w_data=train_data.groupby([\"user_id\",pd.Grouper(key=\"day\",freq=\"M\")])['total amount per day'].sum().reset_index()\n",
    "final_data[\"G_2\"]=temp_w_data.groupby(\"user_id\")[\"total amount per day\"].median()\n",
    "del temp_w_data"
   ]
  },
  {
   "cell_type": "code",
   "execution_count": null,
   "id": "2f6e875c",
   "metadata": {},
   "outputs": [],
   "source": [
    "## to estimate G_1\n",
    "temp_g1=pd.DataFrame(train_data[train_data[\"transaction_type\"]==\"CREDITO\"].groupby(\"user_id\")[\"number of transactions\"].sum())\n",
    "temp_g1=pd.concat([temp_g1,pd.DataFrame(train_data[train_data[\"transaction_type\"]==\"DEBITO\"].groupby(\"user_id\")[\"number of transactions\"].sum())],axis=1)\n",
    "temp_g1.columns=[\"CREDITO\",\"DEBITO\"]\n",
    "temp_g1.fillna(0,inplace=True)\n",
    "temp_g1[\"RATIO\"]=[i/(i+j) for i,j in zip(temp_g1[\"CREDITO\"],temp_g1[\"DEBITO\"])]\n",
    "temp_g1[\"G_1\"]=[\"CREDITO\" if i>0.66 else \"BALANCEADO\" for i in temp_g1[\"RATIO\"]]\n",
    "temp_g1[\"G_1\"]=[\"DEBITO\" if i<0.34 else j for i,j in zip(temp_g1[\"RATIO\"],temp_g1[\"G_1\"])]\n",
    "final_data[\"G_1\"]=temp_g1[\"G_1\"]\n",
    "del temp_g1"
   ]
  },
  {
   "cell_type": "code",
   "execution_count": null,
   "id": "12cfca47",
   "metadata": {},
   "outputs": [],
   "source": [
    "## script to estimate C_6\n",
    "temp_c6=train_data_1[train_data_1[\"transaction_type\"]==\"CREDITO\"].groupby([\"user_id\",\"merchant_id\"])[\"number of transactions\"].sum().reset_index()\n",
    "temp_c6=temp_c6.sort_values([\"user_id\",\"number of transactions\"])\n",
    "temp_c6=temp_c6.groupby(\"user_id\")[\"merchant_id\"].last()\n",
    "final_data[\"C_6\"]=temp_c6\n",
    "del temp_c6"
   ]
  },
  {
   "cell_type": "code",
   "execution_count": null,
   "id": "94266a46",
   "metadata": {},
   "outputs": [],
   "source": [
    "## script to estimate D_6\n",
    "temp_d6=train_data_1[train_data_1[\"transaction_type\"]==\"DEBITO\"].groupby([\"user_id\",\"merchant_id\"])[\"number of transactions\"].sum().reset_index()\n",
    "temp_d6=temp_d6.sort_values([\"user_id\",\"number of transactions\"])\n",
    "temp_d6=temp_d6.groupby(\"user_id\")[\"merchant_id\"].last()\n",
    "final_data[\"D_6\"]=temp_d6\n",
    "del temp_d6,train_data_1"
   ]
  },
  {
   "cell_type": "code",
   "execution_count": null,
   "id": "433bbbcb",
   "metadata": {},
   "outputs": [],
   "source": [
    "## fill the NA's with 0 on the final dataframe and format categoical variables and timedelta\n",
    "final_data[\"T_1\"]=[0 if j else i.days for i,j in zip(final_data[\"T_1\"],final_data[\"T_1\"].isna())]\n",
    "final_data.fillna(0,inplace=True)\n",
    "final_data[\"C_6\"]=[str(i) for i in final_data[\"C_6\"]]\n",
    "final_data[\"D_6\"]=[str(i) for i in final_data[\"D_6\"]]\n",
    "final_data.head()"
   ]
  },
  {
   "cell_type": "code",
   "execution_count": null,
   "id": "325a00b8",
   "metadata": {},
   "outputs": [],
   "source": [
    "del temp_data_user_id,train_data"
   ]
  },
  {
   "cell_type": "markdown",
   "id": "e0704c72",
   "metadata": {},
   "source": [
    "### Construcción del modelo de clustering con K-prototypes y Affinity propagation\n",
    "\n",
    "Para la construcción del modelo, dado que no es un modelo de aprendizaje supervisado, no es necesario dividir la muestra en entrenamiento y testeo. Además, lo que se busca en este modelo es que haya la mayor homogeneidad posible en los grupos, pero que haya la mayor heterogeneidad entre diferentes grupos.\n",
    "\n",
    "Es por esto que los resultados del modelo se van a evaluar con el coeficiente de silueta para las variables numericas, el cual es un gran indicador de los criterios mencionados anteriormente."
   ]
  },
  {
   "cell_type": "markdown",
   "id": "e89c6737",
   "metadata": {},
   "source": [
    "<b>Vuelvo a poner el diccionario de la base de datos:</b>\n",
    "\n",
    "<b>GENERALES</b>\n",
    "\n",
    "- user_id.\n",
    "- G_1: Variable que contiene \"CREDITO\" si más del 66% de sus transacciones son crédito, \"DEBITO\" si más del 66% de sus transacciones son débito y \"BALANCEADO\" si ninguno de los dos se cumple. Esta variable se calcula con las transacciones de los últimos 3 meses.\n",
    "- G_2: Mediana de 3 meses del balance al final del mes del total del monto CREDITO meno el total del monto DEBITO en el mes.\n",
    "\n",
    "\n",
    "<b>CRÉDITO</b>\n",
    "\n",
    "- C_1: Mediana de 3 meses del número de transacciones a la semana.\n",
    "- C_2: Mediana de 3 meses del número total de transacciones al mes.\n",
    "- C_3: Mediana de 3 meses del monto total de transacciones al mes.\n",
    "- C_4: Mediana de 3 meses del monto promedio de las transacciones en el día.\n",
    "- C_5: Mediana de 3 meses del monto total de transacciones semanales.\n",
    "- C_6: Merchant_id al que más transacciones Crédito realiza (Es una variable categórica por lo que es probable que se necesite un k-prototypes).\n",
    "\n",
    "<b>DEBITO</b>\n",
    "\n",
    "- D_1: Mediana de 3 meses del número de transacciones a la semana.\n",
    "- D_2: Mediana de 3 meses del número total de transacciones al mes.\n",
    "- D_3: Mediana de 3 meses del monto total de transacciones al mes.\n",
    "- D_4: Mediana de 3 meses del monto promedio de las transacciones en el día.\n",
    "- D_5: Mediana de 3 meses del monto total de transacciones semanales.\n",
    "- D_6: Merchant_id al que más transacciones Debito realiza (Es una variable categórica por lo que es probable que se necesite un k-prototypes).\n",
    "\n",
    "<b> TRANSACCIONALES </b>\n",
    "- T_1: Promedio de días entre transacciones."
   ]
  },
  {
   "cell_type": "code",
   "execution_count": 44,
   "id": "b1dc6a6c",
   "metadata": {},
   "outputs": [
    {
     "data": {
      "text/html": [
       "<div>\n",
       "<style scoped>\n",
       "    .dataframe tbody tr th:only-of-type {\n",
       "        vertical-align: middle;\n",
       "    }\n",
       "\n",
       "    .dataframe tbody tr th {\n",
       "        vertical-align: top;\n",
       "    }\n",
       "\n",
       "    .dataframe thead th {\n",
       "        text-align: right;\n",
       "    }\n",
       "</style>\n",
       "<table border=\"1\" class=\"dataframe\">\n",
       "  <thead>\n",
       "    <tr style=\"text-align: right;\">\n",
       "      <th></th>\n",
       "      <th>C4</th>\n",
       "      <th>D4</th>\n",
       "      <th>C_1</th>\n",
       "      <th>C_5</th>\n",
       "      <th>D_1</th>\n",
       "      <th>D_5</th>\n",
       "      <th>C_2</th>\n",
       "      <th>C_3</th>\n",
       "      <th>D_2</th>\n",
       "      <th>D_3</th>\n",
       "      <th>T_1</th>\n",
       "      <th>G_2</th>\n",
       "    </tr>\n",
       "  </thead>\n",
       "  <tbody>\n",
       "    <tr>\n",
       "      <th>count</th>\n",
       "      <td>1.376046e+06</td>\n",
       "      <td>1.376046e+06</td>\n",
       "      <td>1.376046e+06</td>\n",
       "      <td>1.376046e+06</td>\n",
       "      <td>1.376046e+06</td>\n",
       "      <td>1.376046e+06</td>\n",
       "      <td>1.376046e+06</td>\n",
       "      <td>1.376046e+06</td>\n",
       "      <td>1.376046e+06</td>\n",
       "      <td>1.376046e+06</td>\n",
       "      <td>1.376046e+06</td>\n",
       "      <td>1.376046e+06</td>\n",
       "    </tr>\n",
       "    <tr>\n",
       "      <th>mean</th>\n",
       "      <td>4.707570e+01</td>\n",
       "      <td>1.341089e+02</td>\n",
       "      <td>3.400857e-01</td>\n",
       "      <td>5.346980e+01</td>\n",
       "      <td>9.567347e-01</td>\n",
       "      <td>1.685634e+02</td>\n",
       "      <td>4.074758e-01</td>\n",
       "      <td>6.236445e+01</td>\n",
       "      <td>1.575450e+00</td>\n",
       "      <td>2.794363e+02</td>\n",
       "      <td>9.706322e+00</td>\n",
       "      <td>3.261768e+02</td>\n",
       "    </tr>\n",
       "    <tr>\n",
       "      <th>std</th>\n",
       "      <td>1.055397e+02</td>\n",
       "      <td>1.515446e+02</td>\n",
       "      <td>5.422106e-01</td>\n",
       "      <td>1.271085e+02</td>\n",
       "      <td>6.249073e-01</td>\n",
       "      <td>2.090074e+02</td>\n",
       "      <td>8.320155e-01</td>\n",
       "      <td>1.619182e+02</td>\n",
       "      <td>1.710958e+00</td>\n",
       "      <td>4.215258e+02</td>\n",
       "      <td>1.389084e+01</td>\n",
       "      <td>4.283715e+02</td>\n",
       "    </tr>\n",
       "    <tr>\n",
       "      <th>min</th>\n",
       "      <td>0.000000e+00</td>\n",
       "      <td>0.000000e+00</td>\n",
       "      <td>0.000000e+00</td>\n",
       "      <td>0.000000e+00</td>\n",
       "      <td>0.000000e+00</td>\n",
       "      <td>0.000000e+00</td>\n",
       "      <td>0.000000e+00</td>\n",
       "      <td>0.000000e+00</td>\n",
       "      <td>0.000000e+00</td>\n",
       "      <td>0.000000e+00</td>\n",
       "      <td>0.000000e+00</td>\n",
       "      <td>5.944455e+00</td>\n",
       "    </tr>\n",
       "    <tr>\n",
       "      <th>25%</th>\n",
       "      <td>0.000000e+00</td>\n",
       "      <td>2.377782e+01</td>\n",
       "      <td>0.000000e+00</td>\n",
       "      <td>0.000000e+00</td>\n",
       "      <td>1.000000e+00</td>\n",
       "      <td>2.377782e+01</td>\n",
       "      <td>0.000000e+00</td>\n",
       "      <td>0.000000e+00</td>\n",
       "      <td>1.000000e+00</td>\n",
       "      <td>2.972228e+01</td>\n",
       "      <td>0.000000e+00</td>\n",
       "      <td>7.133346e+01</td>\n",
       "    </tr>\n",
       "    <tr>\n",
       "      <th>50%</th>\n",
       "      <td>0.000000e+00</td>\n",
       "      <td>8.322237e+01</td>\n",
       "      <td>0.000000e+00</td>\n",
       "      <td>0.000000e+00</td>\n",
       "      <td>1.000000e+00</td>\n",
       "      <td>9.867795e+01</td>\n",
       "      <td>0.000000e+00</td>\n",
       "      <td>0.000000e+00</td>\n",
       "      <td>1.000000e+00</td>\n",
       "      <td>1.307780e+02</td>\n",
       "      <td>4.000000e+00</td>\n",
       "      <td>1.842781e+02</td>\n",
       "    </tr>\n",
       "    <tr>\n",
       "      <th>75%</th>\n",
       "      <td>3.566673e+01</td>\n",
       "      <td>1.902226e+02</td>\n",
       "      <td>1.000000e+00</td>\n",
       "      <td>3.566673e+01</td>\n",
       "      <td>1.000000e+00</td>\n",
       "      <td>2.377782e+02</td>\n",
       "      <td>1.000000e+00</td>\n",
       "      <td>3.566673e+01</td>\n",
       "      <td>2.000000e+00</td>\n",
       "      <td>3.566673e+02</td>\n",
       "      <td>1.400000e+01</td>\n",
       "      <td>4.161119e+02</td>\n",
       "    </tr>\n",
       "    <tr>\n",
       "      <th>max</th>\n",
       "      <td>4.800640e+02</td>\n",
       "      <td>6.152989e+02</td>\n",
       "      <td>1.600000e+01</td>\n",
       "      <td>3.061066e+03</td>\n",
       "      <td>1.900000e+01</td>\n",
       "      <td>5.231691e+03</td>\n",
       "      <td>5.500000e+01</td>\n",
       "      <td>1.085198e+04</td>\n",
       "      <td>8.200000e+01</td>\n",
       "      <td>1.964451e+04</td>\n",
       "      <td>9.000000e+01</td>\n",
       "      <td>2.374977e+04</td>\n",
       "    </tr>\n",
       "  </tbody>\n",
       "</table>\n",
       "</div>"
      ],
      "text/plain": [
       "                 C4            D4           C_1           C_5           D_1  \\\n",
       "count  1.376046e+06  1.376046e+06  1.376046e+06  1.376046e+06  1.376046e+06   \n",
       "mean   4.707570e+01  1.341089e+02  3.400857e-01  5.346980e+01  9.567347e-01   \n",
       "std    1.055397e+02  1.515446e+02  5.422106e-01  1.271085e+02  6.249073e-01   \n",
       "min    0.000000e+00  0.000000e+00  0.000000e+00  0.000000e+00  0.000000e+00   \n",
       "25%    0.000000e+00  2.377782e+01  0.000000e+00  0.000000e+00  1.000000e+00   \n",
       "50%    0.000000e+00  8.322237e+01  0.000000e+00  0.000000e+00  1.000000e+00   \n",
       "75%    3.566673e+01  1.902226e+02  1.000000e+00  3.566673e+01  1.000000e+00   \n",
       "max    4.800640e+02  6.152989e+02  1.600000e+01  3.061066e+03  1.900000e+01   \n",
       "\n",
       "                D_5           C_2           C_3           D_2           D_3  \\\n",
       "count  1.376046e+06  1.376046e+06  1.376046e+06  1.376046e+06  1.376046e+06   \n",
       "mean   1.685634e+02  4.074758e-01  6.236445e+01  1.575450e+00  2.794363e+02   \n",
       "std    2.090074e+02  8.320155e-01  1.619182e+02  1.710958e+00  4.215258e+02   \n",
       "min    0.000000e+00  0.000000e+00  0.000000e+00  0.000000e+00  0.000000e+00   \n",
       "25%    2.377782e+01  0.000000e+00  0.000000e+00  1.000000e+00  2.972228e+01   \n",
       "50%    9.867795e+01  0.000000e+00  0.000000e+00  1.000000e+00  1.307780e+02   \n",
       "75%    2.377782e+02  1.000000e+00  3.566673e+01  2.000000e+00  3.566673e+02   \n",
       "max    5.231691e+03  5.500000e+01  1.085198e+04  8.200000e+01  1.964451e+04   \n",
       "\n",
       "                T_1           G_2  \n",
       "count  1.376046e+06  1.376046e+06  \n",
       "mean   9.706322e+00  3.261768e+02  \n",
       "std    1.389084e+01  4.283715e+02  \n",
       "min    0.000000e+00  5.944455e+00  \n",
       "25%    0.000000e+00  7.133346e+01  \n",
       "50%    4.000000e+00  1.842781e+02  \n",
       "75%    1.400000e+01  4.161119e+02  \n",
       "max    9.000000e+01  2.374977e+04  "
      ]
     },
     "execution_count": 44,
     "metadata": {},
     "output_type": "execute_result"
    }
   ],
   "source": [
    "## description of the dataframe\n",
    "final_data.describe()"
   ]
  },
  {
   "cell_type": "code",
   "execution_count": null,
   "id": "db8c15ef",
   "metadata": {},
   "outputs": [],
   "source": [
    "## leave the user_id as a variable of the DataFrame\n",
    "final_data=final_data.reset_index()\n",
    "\n",
    "## save the data in case the kernel breaks.\n",
    "# # final_data.to_csv(\"Data_1/datos_modelo_df.csv\")\n",
    "# model_df=pd.read_csv(\"Data/datos_modelo_df.csv\",index_col=0)"
   ]
  },
  {
   "cell_type": "code",
   "execution_count": 78,
   "id": "86274c25",
   "metadata": {
    "scrolled": true
   },
   "outputs": [
    {
     "data": {
      "application/vnd.jupyter.widget-view+json": {
       "model_id": "897efa54f4b644ca923b73911e60cbb2",
       "version_major": 2,
       "version_minor": 0
      },
      "text/plain": [
       "Summarize dataset:   0%|          | 0/23 [00:00<?, ?it/s]"
      ]
     },
     "metadata": {},
     "output_type": "display_data"
    },
    {
     "data": {
      "application/vnd.jupyter.widget-view+json": {
       "model_id": "6a863d71e31848dd9ce5e737972f701b",
       "version_major": 2,
       "version_minor": 0
      },
      "text/plain": [
       "Generate report structure:   0%|          | 0/1 [00:00<?, ?it/s]"
      ]
     },
     "metadata": {},
     "output_type": "display_data"
    },
    {
     "data": {
      "application/vnd.jupyter.widget-view+json": {
       "model_id": "cbb5e9adce3d4992a6cf047468958964",
       "version_major": 2,
       "version_minor": 0
      },
      "text/plain": [
       "Render HTML:   0%|          | 0/1 [00:00<?, ?it/s]"
      ]
     },
     "metadata": {},
     "output_type": "display_data"
    },
    {
     "data": {
      "application/vnd.jupyter.widget-view+json": {
       "model_id": "f4a57a22f2384c099aa96fad6a8c015c",
       "version_major": 2,
       "version_minor": 0
      },
      "text/plain": [
       "Export report to file:   0%|          | 0/1 [00:00<?, ?it/s]"
      ]
     },
     "metadata": {},
     "output_type": "display_data"
    }
   ],
   "source": [
    "#EDA using pandas-profiling\n",
    "# profile = ProfileReport(df=final_data,\n",
    "#                         minimal=False)\n",
    "\n",
    "# # #Saving results to a HTML file\n",
    "# profile.to_file(\"EDA_final_data.html\")"
   ]
  },
  {
   "cell_type": "markdown",
   "id": "dcb7e27c",
   "metadata": {},
   "source": [
    "<b>Note</b>: En caso de que se quiera correr el código, probablemente deban seguir las siguientes instrucciones:\n",
    "\n",
    "https://stackoverflow.com/questions/68704002/importerror-cannot-import-name-abcindexclass-from-pandas-core-dtypes-generic\n",
    "\n",
    "Sin embargo, abriendo el archivo <b>\"EDA_final_data.html\"</b> que esta en la carpeta de la prueba, se puede ver el reporte.\n",
    "\n",
    "Por otra parte, dado el EDA que se realiza sobre esta base, se puede observar que <b>hay variables que necesitan tratamiento de datos atípicos</b> para que no afecten de manera muy drástica la estandarización que se va a realizar posteriormente. Esto se concluye ya que variables como \"C_5\" tienen distribuciones con colas muy alargadas y valores extremos muy desfasados de los valores comunes.\n",
    "\n",
    "Ademas, vemos que un 57,5% de los datos de la base estan duplicados. En este caso se decide dejar los duplicados ya que da cierta información adicional para los centroides de que el cluster puede estar mas cercano a esos valores duplicados que a otro tipo de comportamiento de clientes que este mas disperso."
   ]
  },
  {
   "cell_type": "markdown",
   "id": "1bca73f2",
   "metadata": {},
   "source": [
    "#### Tratamiento de outliers de la base de datos final\n",
    "Se define una función que permite realizar el tratamiento de outliers por 2 metodologias diferentes. vale la pena mencionar que las variables categoricas no se tratan en este caso ya que, a pesar de que algunas de ellas estan muy concentradas tal como se observa en el EDA, es posible que estas concentraciones decidan de cierta manera manera agrupaciones entre clientes con comportamientos similares."
   ]
  },
  {
   "cell_type": "code",
   "execution_count": null,
   "id": "5af80b28",
   "metadata": {},
   "outputs": [],
   "source": [
    "## function to treat outliers no matter the distribution of the data\n",
    "def outliers_treatment(dataset,variables='todas',## we can pass todas so it takes all the data frame or the list of variables we want to use\n",
    "                       variables_exclude=[],## we can exclude some variables from the dataset\n",
    "                       perc_step=2.5, ## how many percent will be reach bin when dividing the dataset. \n",
    "                       correction_type='replace',## it can be replace or exlude depending on the method you want to use\n",
    "                       exclude_negatives=True, ## if you want to replace the negatives with missing values\n",
    "                       methodology='percentile', ## methodology could be \"percentile\" or \"std\"\n",
    "                       std_integer=2): ## if methodology == \"std\" decide how much std would you accept among the \"normal\" data\n",
    "    data=dataset.copy(deep=True)\n",
    "    if exclude_negatives:\n",
    "        data[(data<0)]=None\n",
    "    if variables=='todas':\n",
    "        columnas_convertir=data.columns.tolist()\n",
    "        [columnas_convertir.remove(i) for i in variables_exclude]\n",
    "    else:\n",
    "        columnas_convertir=variables\n",
    "    if correction_type=='replace':\n",
    "        for variable in columnas_convertir:\n",
    "            if methodology=='percentile':\n",
    "                ## sacamos los percentiles de la distribución, asi como el minimo y el maximo de la serie\n",
    "                tabla_percentiles=np.percentile(data[variable].dropna(),np.arange(0,101,perc_step),interpolation='midpoint').tolist()\n",
    "                ## miramos en que percentiles se presenta el rango mas alto de la distribiución\n",
    "                tabla_diferencias=np.diff(tabla_percentiles)\n",
    "\n",
    "                ## Sacamos los dos percentiles que pertenecen a los rangos mas amplios\n",
    "                argsort_differences=tabla_diferencias.argsort()\n",
    "                list_int_index=argsort_differences[-2:].tolist()\n",
    "\n",
    "                ## miramos los rangos de percentiles que mas separados estan en la distribución\n",
    "\n",
    "                array_percentiles=[]\n",
    "                for index in list_int_index:\n",
    "                    array_percentiles.append(tabla_percentiles[index:index+2])\n",
    "                if (abs(list_int_index[0]-list_int_index[1])==1):\n",
    "                    ## primer caso en el que los dos estan pegados en la punta derecha\n",
    "                    if bool(np.isin(np.max(argsort_differences),list_int_index)):\n",
    "                        data.loc[(data[variable]>=np.min(array_percentiles)),variable]=np.min(array_percentiles)\n",
    "                    ## Segundo caso en el que los dos estan pegados en la cola izquierda\n",
    "                    elif bool(np.isin(np.min(argsort_differences),list_int_index)):\n",
    "                        data.loc[(data[variable]>=np.max(array_percentiles)),variable]=np.max(array_percentiles)\n",
    "                    ## tercer caso en el que estan pegados en el medio\n",
    "                    else:\n",
    "                        ## en este caso si importa el orden para saber si asignarle el maximo o el minimo del percentil\n",
    "                        if list_int_index[0]>list_int_index[1]:\n",
    "                            data.loc[(data[variable].between(array_percentiles[0][0],array_percentiles[0][1])),variable]=np.max(array_percentiles[0])\n",
    "                            data.loc[(data[variable].between(array_percentiles[1][0],array_percentiles[1][1])),variable]=np.min(array_percentiles[1])\n",
    "                        elif list_int_index[1]>list_int_index[0]:\n",
    "                            data.loc[(data[variable].between(array_percentiles[0][0],array_percentiles[0][1])),variable]=np.min(array_percentiles[0])\n",
    "                            data.loc[(data[variable].between(array_percentiles[1][0],array_percentiles[1][1])),variable]=np.max(array_percentiles[1])\n",
    "                else:\n",
    "                    for array in array_percentiles:\n",
    "                        if array[0]==np.min(tabla_percentiles):\n",
    "                            data.loc[(data[variable].between(array[0],array[1])),variable]=array[1]\n",
    "                        elif array[1]==np.max(tabla_percentiles):\n",
    "                            data.loc[(data[variable].between(array[0],array[1])),variable]=array[0]\n",
    "                        else:\n",
    "                            medium=(array[1]+array[0])/2\n",
    "                            data.loc[(data[variable].between(array[0],medium)),variable]=array[0]\n",
    "                            data.loc[(data[variable].between(medium,array[1])),variable]=array[1]\n",
    "            elif methodology=='std':\n",
    "                ## Media y desviacion standar de la serie\n",
    "                desviacion=data[variable].std()\n",
    "                media=data[variable].mean()\n",
    "\n",
    "                # Reemplazamos la cola izquierda por la media -2 vecesa la desviación\n",
    "                data.loc[(data[variable]<(media-std_integer*desviacion)),variable]=media-std_integer*desviacion\n",
    "\n",
    "                # Hacemos lo mismo para la cola derecha\n",
    "                data.loc[(data[variable]>(media+std_integer*desviacion)),variable]=media+std_integer*desviacion\n",
    "\n",
    "    elif correction_type=='exclude':\n",
    "        for variable in data.columns:\n",
    "            if methodology=='percentile':\n",
    "                print(variable)\n",
    "                ## sacamos los percentiles de la distribución, asi como el minimo y el maximo de la serie\n",
    "                tabla_percentiles=np.percentile(data[variable].dropna(),np.arange(0,101,perc_step),interpolation='midpoint').tolist()\n",
    "                ## miramos en que percentiles se presenta el rango mas alto de la distribiución\n",
    "                tabla_diferencias=np.diff(tabla_percentiles)\n",
    "\n",
    "                ## Sacamos los dos percentiles que pertenecen a los rangos mas amplios\n",
    "                argsort_differences=tabla_diferencias.argsort()\n",
    "                list_int_index=argsort_differences[-2:].tolist()\n",
    "\n",
    "                ## miramos los rangos de percentiles que mas separados estan en la distribución\n",
    "\n",
    "                array_percentiles=[]\n",
    "                for index in list_int_index:\n",
    "                    array_percentiles.append(tabla_percentiles[index:index+2])\n",
    "                data.drop(data[data[variable].between(array_percentiles[0][0],array_percentiles[0][1])].index)\n",
    "                data.drop(data[data[variable].between(array_percentiles[0][0],array_percentiles[0][1])].index)\n",
    "            elif methodology=='std':\n",
    "                ## Media y desviacion standar de la serie\n",
    "                desviacion=data[variable].std()\n",
    "                media=data[variable].mean()\n",
    "\n",
    "                # Reemplazamos la cola izquierda por la media -2 vecesa la desviación\n",
    "                data.drop(data.loc[(data[variable]<(media-std_integer*desviacion)),variable].index)\n",
    "\n",
    "                # Hacemos lo mismo para la cola derecha\n",
    "                data.drop(data.loc[(data[variable]>(media+std_integer*desviacion)),variable].index)\n",
    "\n",
    "    return data"
   ]
  },
  {
   "cell_type": "code",
   "execution_count": null,
   "id": "7d24f564",
   "metadata": {},
   "outputs": [],
   "source": [
    "## outliers treatment for any data distribution form\n",
    "final_data_1=outliers_treatment(final_data,\n",
    "                  variables=\"todas\",\n",
    "                  variables_exclude=[\"user_id\",\"G_1\",\"C_6\",\"D_6\"],\n",
    "                  perc_step=1,\n",
    "                  correction_type=\"replace\",\n",
    "                  exclude_negatives=False,\n",
    "                  methodology=\"percentile\")\n",
    "\n",
    "# delete dataframes used before to save memory\n",
    "del final_data"
   ]
  },
  {
   "cell_type": "code",
   "execution_count": 80,
   "id": "68aab7a2",
   "metadata": {},
   "outputs": [
    {
     "data": {
      "application/vnd.jupyter.widget-view+json": {
       "model_id": "e604fce445bc4d14b09fc7daf7abd99c",
       "version_major": 2,
       "version_minor": 0
      },
      "text/plain": [
       "Summarize dataset:   0%|          | 0/23 [00:00<?, ?it/s]"
      ]
     },
     "metadata": {},
     "output_type": "display_data"
    },
    {
     "data": {
      "application/vnd.jupyter.widget-view+json": {
       "model_id": "34c6d847ecac4c2ebd30025467ad443b",
       "version_major": 2,
       "version_minor": 0
      },
      "text/plain": [
       "Generate report structure:   0%|          | 0/1 [00:00<?, ?it/s]"
      ]
     },
     "metadata": {},
     "output_type": "display_data"
    },
    {
     "data": {
      "application/vnd.jupyter.widget-view+json": {
       "model_id": "4aecc97e823a42819d48987c61695e3c",
       "version_major": 2,
       "version_minor": 0
      },
      "text/plain": [
       "Render HTML:   0%|          | 0/1 [00:00<?, ?it/s]"
      ]
     },
     "metadata": {},
     "output_type": "display_data"
    },
    {
     "data": {
      "application/vnd.jupyter.widget-view+json": {
       "model_id": "016645f9fc5d47788326bb4091e47f6d",
       "version_major": 2,
       "version_minor": 0
      },
      "text/plain": [
       "Export report to file:   0%|          | 0/1 [00:00<?, ?it/s]"
      ]
     },
     "metadata": {},
     "output_type": "display_data"
    }
   ],
   "source": [
    "# #EDA for the treated data using pandas-profiling\n",
    "# profile = ProfileReport(df=final_data_1,\n",
    "#                         minimal=False)\n",
    "\n",
    "# # #Saving results to a HTML file\n",
    "# profile.to_file(\"EDA_final_data_treated.html\")"
   ]
  },
  {
   "cell_type": "markdown",
   "id": "b4c432a6",
   "metadata": {},
   "source": [
    "Luego de hacer el tratamiento, vemos que las distribuciones de los datos mejoraron y no hay outliers tan extremos como se presentaban antes del tratamiento. \n",
    "\n",
    "En cuanto a las variables del número de transacciones, dado que muy pocos clientes hacen más de 3 transacciones al mes, quedaron como si fueran una categórica ordinal, sin embargo, esto no es malo ya que queremos encontrar grupos de personas con comportamientos similares pero aún no es necesario detectar cuales son los outliers."
   ]
  },
  {
   "cell_type": "markdown",
   "id": "50c3fe82",
   "metadata": {},
   "source": [
    "#### Escalamiento de las variables numericas.\n",
    "Para cualquier modelo que se base en distancias es necesario hacer un escalado de los datos, para que las variables sean comparadas entre si. En este caso se decidira hacer un tratamiento MinMax de manera experta; sin embargo, con un poco mas de tiempo se deberian testear diferentes tipos de escalado para ver cual genera el mejor resultado en el agrupamiento."
   ]
  },
  {
   "cell_type": "code",
   "execution_count": null,
   "id": "22aac899",
   "metadata": {},
   "outputs": [],
   "source": [
    "## divide dataframe in numerical and categorical variables\n",
    "cat_variables=final_data_1[['G_1', 'C_6', 'D_6']]\n",
    "num_variables=final_data_1[['C4', 'D4', 'C_1', 'C_5', 'D_1', 'D_5', 'C_2', 'C_3', 'D_2','D_3', 'T_1', 'G_2']]\n",
    "cols_num=num_variables.columns\n",
    "del final_data_1"
   ]
  },
  {
   "cell_type": "code",
   "execution_count": null,
   "id": "1276db8e",
   "metadata": {},
   "outputs": [],
   "source": [
    "## scale numerical values between 0 and 1\n",
    "scaler = MinMaxScaler()\n",
    "scaler.fit(num_variables.values)\n",
    "num_variables=pd.DataFrame(data=scaler.transform(num_variables.values),columns=cols_num)"
   ]
  },
  {
   "cell_type": "code",
   "execution_count": 50,
   "id": "4562d6ea",
   "metadata": {},
   "outputs": [],
   "source": [
    "## base de datos final usada para el modelo con el escalamiento de los datos\n",
    "model_df=pd.concat([num_variables,cat_variables],axis=1)"
   ]
  },
  {
   "cell_type": "markdown",
   "id": "049016c9",
   "metadata": {},
   "source": [
    "#### Desarrollo y evaluación del modelo de Affinity propagation\n",
    "Dado que este modelo no recibe como input la cantidad de clústeres iniciales, es una buena primera aproximación para estimar el número de clústeres tentativos que podríamos tener. Sin embargo, el problema de este modelo es que es muy intensivo en el uso de memoria, por lo que hay que entrenarlo con una porción mucho más pequeña de la base de datos. Además, este modelo no recibe variables categóricas, por lo que existe la opción de discretizar las categóricas, pero como este es un modelo intermedio al final, solo se van a usar las variables numéricas para este caso."
   ]
  },
  {
   "cell_type": "code",
   "execution_count": 114,
   "id": "607376e3",
   "metadata": {},
   "outputs": [],
   "source": [
    "random_numerical_data,leftover = train_test_split(num_variables.drop_duplicates(), train_size=0.01, random_state=42,shuffle=True)"
   ]
  },
  {
   "cell_type": "code",
   "execution_count": 115,
   "id": "571dfb55",
   "metadata": {},
   "outputs": [
    {
     "name": "stderr",
     "output_type": "stream",
     "text": [
      "C:\\ProgramData\\Anaconda3\\lib\\site-packages\\sklearn\\base.py:443: UserWarning:\n",
      "\n",
      "X has feature names, but AffinityPropagation was fitted without feature names\n",
      "\n"
     ]
    }
   ],
   "source": [
    "# define the model\n",
    "model = AffinityPropagation(damping=0.7)\n",
    "\n",
    "# train the model\n",
    "model.fit(random_numerical_data.values)\n",
    "\n",
    "# assign each data point to a cluster\n",
    "result = model.predict(random_numerical_data)\n",
    "\n",
    "# get all of the unique clusters\n",
    "clusters = unique(result)"
   ]
  },
  {
   "cell_type": "code",
   "execution_count": 132,
   "id": "7c3ddaa0",
   "metadata": {},
   "outputs": [
    {
     "data": {
      "text/plain": [
       "155"
      ]
     },
     "execution_count": 132,
     "metadata": {},
     "output_type": "execute_result"
    }
   ],
   "source": [
    "## analize the number of clusters that the model retrieves\n",
    "len(clusters)"
   ]
  },
  {
   "cell_type": "markdown",
   "id": "f001d4fe",
   "metadata": {},
   "source": [
    "Dado que el modelo arroja tantos clústeres, no se considera como un modelo potencial a usar en este caso.\n",
    "\n",
    "<b>Nota :</b> Vale la pena mencionar que el modelo no se probó con los hiperparametros tuneados, sin embargo, dado que el modelo es tan intensivo en términos computacionales se descarta y se prueba el uso de K-prototypes.\n"
   ]
  },
  {
   "cell_type": "markdown",
   "id": "27513484",
   "metadata": {},
   "source": [
    "#### desarrollo y evaluación del modelo de K-prototypes\n",
    "Este modelo nos es muy util ya que nos permite incorporar variables categoricas dentro del análisis a comparación del Kmeans y, además, podemos tunear el numero de clusteres evaluando su resultado con el costo."
   ]
  },
  {
   "cell_type": "code",
   "execution_count": 51,
   "id": "05992ac6",
   "metadata": {},
   "outputs": [],
   "source": [
    "del num_variables,cat_variables"
   ]
  },
  {
   "cell_type": "code",
   "execution_count": 35,
   "id": "387a8b6e",
   "metadata": {},
   "outputs": [],
   "source": [
    "## train the model with a portion of the non duplicated data for computation efficiency\n",
    "\n",
    "## I know the sample may be not representative of the total dataframe but giving the fact that kprototypes is inefficient\n",
    "## to run in large dataset, I just wanted to ilustrate the process to get a good model because I dont have a good machine.\n",
    "random_numerical_data,leftover = train_test_split(model_df.drop_duplicates(), train_size=0.003, random_state=43,shuffle=True)"
   ]
  },
  {
   "cell_type": "code",
   "execution_count": 36,
   "id": "8bdc2050",
   "metadata": {},
   "outputs": [
    {
     "data": {
      "text/plain": [
       "(1799, 15)"
      ]
     },
     "execution_count": 36,
     "metadata": {},
     "output_type": "execute_result"
    }
   ],
   "source": [
    "## shape of the dataframe to estimate out model\n",
    "random_numerical_data.shape"
   ]
  },
  {
   "cell_type": "code",
   "execution_count": 37,
   "id": "7ecbc1c1",
   "metadata": {},
   "outputs": [],
   "source": [
    "## columns that the algorithm will take as categorical values\n",
    "catColumnsPos=list(where(random_numerical_data.columns.isin([\"G_1\",\"C_6\",\"D_6\"]))[0])"
   ]
  },
  {
   "cell_type": "code",
   "execution_count": 44,
   "id": "5fc557a8",
   "metadata": {},
   "outputs": [
    {
     "name": "stdout",
     "output_type": "stream",
     "text": [
      "Cluster initiation: 5\n",
      "Cluster initiation: 6\n",
      "Cluster initiation: 7\n",
      "Cluster initiation: 8\n",
      "Cluster initiation: 9\n",
      "Cluster initiation: 10\n",
      "Cluster initiation: 11\n",
      "Cluster initiation: 12\n",
      "Cluster initiation: 13\n",
      "Cluster initiation: 14\n"
     ]
    }
   ],
   "source": [
    "## elbow method to get the optimal number of clusters for the k-prototypes algoritm\n",
    "cost = []\n",
    "for cluster in range(5, 15):\n",
    "    try:\n",
    "        kprototype = KPrototypes(n_jobs = -1,max_iter=50,n_init=5, n_clusters = cluster, init = 'Huang', random_state = 0)\n",
    "        kprototype.fit_predict(random_numerical_data.values, categorical = catColumnsPos)\n",
    "        cost.append(kprototype.cost_)\n",
    "        print('Cluster initiation: {}'.format(cluster))\n",
    "    except:\n",
    "        break"
   ]
  },
  {
   "cell_type": "code",
   "execution_count": 45,
   "id": "30335dc8",
   "metadata": {},
   "outputs": [
    {
     "data": {
      "image/png": "[encoded data removed]",
      "text/plain": [
       "<Figure size 800x480 with 1 Axes>"
      ]
     },
     "metadata": {
      "needs_background": "light"
     },
     "output_type": "display_data"
    },
    {
     "data": {
      "text/plain": [
       "<ggplot: (127130385523)>"
      ]
     },
     "execution_count": 45,
     "metadata": {},
     "output_type": "execute_result"
    }
   ],
   "source": [
    "# Converting the results into a dataframe and plotting them\n",
    "df_cost = pd.DataFrame({'Cluster':range(5, 15), 'Cost':cost})\n",
    "# Data viz\n",
    "plotnine.options.figure_size = (8, 4.8)\n",
    "(\n",
    "    ggplot(data = df_cost)+\n",
    "    geom_line(aes(x = 'Cluster',\n",
    "                  y = 'Cost'))+\n",
    "    geom_point(aes(x = 'Cluster',\n",
    "                   y = 'Cost'))+\n",
    "    geom_label(aes(x = 'Cluster',\n",
    "                   y = 'Cost',\n",
    "                   label = 'Cluster'),\n",
    "               size = 10,\n",
    "               nudge_y = 0) +\n",
    "    labs(title = 'Optimal number of cluster with Elbow Method')+\n",
    "    xlab('Number of Clusters k')+\n",
    "    ylab('Cost')+\n",
    "    theme_minimal()\n",
    ")"
   ]
  },
  {
   "cell_type": "markdown",
   "id": "760f1e45",
   "metadata": {},
   "source": [
    "Dada la grafica anterior, se selecciona 10 como el numero de clusters optimo.\n",
    "\n",
    "<b>Nota: </b> Es importante menionar que dado que no s e entreno con una muestra significativa, probablmente el resultado no sea el correcto. Sin embargo, el pipeline si es el correcto y tal vez, con un poder de procesamiento mayor, se podria realizar un modelo mucho mas preciso. "
   ]
  },
  {
   "cell_type": "code",
   "execution_count": 40,
   "id": "1c843760",
   "metadata": {},
   "outputs": [
    {
     "name": "stdout",
     "output_type": "stream",
     "text": [
      "Cluster initiation: 0.2\n",
      "Cluster initiation: 0.5\n",
      "Cluster initiation: 0.9\n"
     ]
    }
   ],
   "source": [
    "## tune the optimal value of gamma\n",
    "cost = []\n",
    "for gamma in [0.2,0.5,0.9]:\n",
    "    try:\n",
    "        kprototype = KPrototypes(n_jobs = -1, n_clusters = 10, init = 'Huang', random_state = 0,gamma=gamma)\n",
    "        kprototype.fit_predict(random_numerical_data.values, categorical = catColumnsPos)\n",
    "        cost.append(kprototype.cost_)\n",
    "        print('Cluster initiation: {}'.format(gamma))\n",
    "    except:\n",
    "        break"
   ]
  },
  {
   "cell_type": "code",
   "execution_count": 43,
   "id": "fce313bb",
   "metadata": {},
   "outputs": [
    {
     "data": {
      "image/png": "[encoded data removed]",
      "text/plain": [
       "<Figure size 800x480 with 1 Axes>"
      ]
     },
     "metadata": {
      "needs_background": "light"
     },
     "output_type": "display_data"
    },
    {
     "data": {
      "text/plain": [
       "<ggplot: (127129085922)>"
      ]
     },
     "execution_count": 43,
     "metadata": {},
     "output_type": "execute_result"
    }
   ],
   "source": [
    "# Converting the results into a dataframe and plotting them\n",
    "df_cost = pd.DataFrame({'Gamma':[0.2,0.5,0.9], 'Cost':cost})\n",
    "# Data viz\n",
    "plotnine.options.figure_size = (8, 4.8)\n",
    "(\n",
    "    ggplot(data = df_cost)+\n",
    "    geom_line(aes(x = 'Gamma',\n",
    "                  y = 'Cost'))+\n",
    "    geom_point(aes(x = 'Gamma',\n",
    "                   y = 'Cost'))+\n",
    "    geom_label(aes(x = 'Gamma',\n",
    "                   y = 'Cost',\n",
    "                   label = 'Gamma'),\n",
    "               size = 10,\n",
    "               nudge_y = 0) +\n",
    "    labs(title = 'Optimal value of Gamma')+\n",
    "    xlab('Value of Gamma')+\n",
    "    ylab('Cost')+\n",
    "    theme_minimal()\n",
    ")"
   ]
  },
  {
   "cell_type": "markdown",
   "id": "8433a01b",
   "metadata": {},
   "source": [
    "De esta grafica podemos interpretar que el mejor valor de gamma es el mas pequeño, lo cual significa que las variables categoricas no tienen importancia y, de hecho, significa que seria mejor evaluar la posibilidad de hacer un Kmeans en lugar de un Kprototypes. Sin embargo, por tiempo no se realizara el modelo de Kmeans."
   ]
  },
  {
   "cell_type": "code",
   "execution_count": 46,
   "id": "8e2ff54d",
   "metadata": {},
   "outputs": [],
   "source": [
    "## develop the selected model with the tuned hyperparameters\n",
    "model=KPrototypes(n_jobs = -1, n_clusters = 10, init = 'Huang', random_state = 0,gamma=0.2)\n",
    "model.fit_predict(random_numerical_data.values, categorical = catColumnsPos)\n",
    "\n",
    "random_numerical_data[\"cluster\"]=model.labels_\n",
    "random_numerical_data[\"unos\"]=1"
   ]
  },
  {
   "cell_type": "code",
   "execution_count": 60,
   "id": "8ab5b3ed",
   "metadata": {},
   "outputs": [],
   "source": [
    "#random_numerical_data.to_csv(\"Data_1/clusters_data.csv\")"
   ]
  },
  {
   "cell_type": "code",
   "execution_count": 49,
   "id": "5b99af3c",
   "metadata": {
    "scrolled": true
   },
   "outputs": [
    {
     "data": {
      "text/html": [
       "<div>\n",
       "<style scoped>\n",
       "    .dataframe tbody tr th:only-of-type {\n",
       "        vertical-align: middle;\n",
       "    }\n",
       "\n",
       "    .dataframe tbody tr th {\n",
       "        vertical-align: top;\n",
       "    }\n",
       "\n",
       "    .dataframe thead th {\n",
       "        text-align: right;\n",
       "    }\n",
       "</style>\n",
       "<table border=\"1\" class=\"dataframe\">\n",
       "  <thead>\n",
       "    <tr style=\"text-align: right;\">\n",
       "      <th></th>\n",
       "      <th>cluster</th>\n",
       "      <th>G_1</th>\n",
       "      <th>C_6</th>\n",
       "      <th>D_6</th>\n",
       "      <th>C4</th>\n",
       "      <th>D4</th>\n",
       "      <th>C_1</th>\n",
       "      <th>D_1</th>\n",
       "      <th>D_2</th>\n",
       "      <th>C_2</th>\n",
       "      <th>D_3</th>\n",
       "      <th>C_3</th>\n",
       "      <th>C_5</th>\n",
       "    </tr>\n",
       "  </thead>\n",
       "  <tbody>\n",
       "    <tr>\n",
       "      <th>0</th>\n",
       "      <td>0</td>\n",
       "      <td>BALANCEADO</td>\n",
       "      <td>1.0</td>\n",
       "      <td>1.0</td>\n",
       "      <td>0.196426</td>\n",
       "      <td>0.197108</td>\n",
       "      <td>0.503145</td>\n",
       "      <td>0.012579</td>\n",
       "      <td>0.151730</td>\n",
       "      <td>0.561321</td>\n",
       "      <td>0.098816</td>\n",
       "      <td>0.177211</td>\n",
       "      <td>0.161045</td>\n",
       "    </tr>\n",
       "    <tr>\n",
       "      <th>1</th>\n",
       "      <td>1</td>\n",
       "      <td>DEBITO</td>\n",
       "      <td>1.0</td>\n",
       "      <td>2.0</td>\n",
       "      <td>0.158572</td>\n",
       "      <td>0.227238</td>\n",
       "      <td>0.527778</td>\n",
       "      <td>0.109568</td>\n",
       "      <td>0.332948</td>\n",
       "      <td>0.567901</td>\n",
       "      <td>0.246192</td>\n",
       "      <td>0.142456</td>\n",
       "      <td>0.133401</td>\n",
       "    </tr>\n",
       "    <tr>\n",
       "      <th>2</th>\n",
       "      <td>2</td>\n",
       "      <td>DEBITO</td>\n",
       "      <td>1.0</td>\n",
       "      <td>2.0</td>\n",
       "      <td>0.789409</td>\n",
       "      <td>0.254241</td>\n",
       "      <td>0.596330</td>\n",
       "      <td>0.057339</td>\n",
       "      <td>0.185780</td>\n",
       "      <td>0.731651</td>\n",
       "      <td>0.204908</td>\n",
       "      <td>0.825124</td>\n",
       "      <td>0.748871</td>\n",
       "    </tr>\n",
       "    <tr>\n",
       "      <th>3</th>\n",
       "      <td>3</td>\n",
       "      <td>DEBITO</td>\n",
       "      <td>0.0</td>\n",
       "      <td>3.0</td>\n",
       "      <td>0.000000</td>\n",
       "      <td>0.154320</td>\n",
       "      <td>0.000000</td>\n",
       "      <td>0.085784</td>\n",
       "      <td>0.262868</td>\n",
       "      <td>0.000000</td>\n",
       "      <td>0.144431</td>\n",
       "      <td>0.000000</td>\n",
       "      <td>0.000000</td>\n",
       "    </tr>\n",
       "    <tr>\n",
       "      <th>4</th>\n",
       "      <td>4</td>\n",
       "      <td>DEBITO</td>\n",
       "      <td>0.0</td>\n",
       "      <td>2.0</td>\n",
       "      <td>0.003040</td>\n",
       "      <td>0.650574</td>\n",
       "      <td>0.011161</td>\n",
       "      <td>0.177455</td>\n",
       "      <td>0.343750</td>\n",
       "      <td>0.011161</td>\n",
       "      <td>0.662526</td>\n",
       "      <td>0.002367</td>\n",
       "      <td>0.002388</td>\n",
       "    </tr>\n",
       "    <tr>\n",
       "      <th>5</th>\n",
       "      <td>5</td>\n",
       "      <td>DEBITO</td>\n",
       "      <td>0.0</td>\n",
       "      <td>2.0</td>\n",
       "      <td>0.002150</td>\n",
       "      <td>0.197414</td>\n",
       "      <td>0.003472</td>\n",
       "      <td>0.539931</td>\n",
       "      <td>0.730469</td>\n",
       "      <td>0.003472</td>\n",
       "      <td>0.581738</td>\n",
       "      <td>0.001674</td>\n",
       "      <td>0.001689</td>\n",
       "    </tr>\n",
       "    <tr>\n",
       "      <th>6</th>\n",
       "      <td>6</td>\n",
       "      <td>CREDITO</td>\n",
       "      <td>1.0</td>\n",
       "      <td>0.0</td>\n",
       "      <td>0.200746</td>\n",
       "      <td>0.020044</td>\n",
       "      <td>0.550000</td>\n",
       "      <td>0.000000</td>\n",
       "      <td>0.022266</td>\n",
       "      <td>0.776563</td>\n",
       "      <td>0.009589</td>\n",
       "      <td>0.282629</td>\n",
       "      <td>0.183172</td>\n",
       "    </tr>\n",
       "    <tr>\n",
       "      <th>7</th>\n",
       "      <td>7</td>\n",
       "      <td>DEBITO</td>\n",
       "      <td>0.0</td>\n",
       "      <td>2.0</td>\n",
       "      <td>0.000000</td>\n",
       "      <td>0.185513</td>\n",
       "      <td>0.000000</td>\n",
       "      <td>0.076844</td>\n",
       "      <td>0.321977</td>\n",
       "      <td>0.000000</td>\n",
       "      <td>0.226350</td>\n",
       "      <td>0.000000</td>\n",
       "      <td>0.000000</td>\n",
       "    </tr>\n",
       "    <tr>\n",
       "      <th>8</th>\n",
       "      <td>8</td>\n",
       "      <td>DEBITO</td>\n",
       "      <td>0.0</td>\n",
       "      <td>1.0</td>\n",
       "      <td>0.000000</td>\n",
       "      <td>0.208824</td>\n",
       "      <td>0.000000</td>\n",
       "      <td>0.051250</td>\n",
       "      <td>0.201250</td>\n",
       "      <td>0.000000</td>\n",
       "      <td>0.143900</td>\n",
       "      <td>0.000000</td>\n",
       "      <td>0.000000</td>\n",
       "    </tr>\n",
       "    <tr>\n",
       "      <th>9</th>\n",
       "      <td>9</td>\n",
       "      <td>DEBITO</td>\n",
       "      <td>1.0</td>\n",
       "      <td>2.0</td>\n",
       "      <td>0.537663</td>\n",
       "      <td>0.597310</td>\n",
       "      <td>0.549020</td>\n",
       "      <td>0.500000</td>\n",
       "      <td>0.602941</td>\n",
       "      <td>0.696078</td>\n",
       "      <td>0.810899</td>\n",
       "      <td>0.592690</td>\n",
       "      <td>0.491732</td>\n",
       "    </tr>\n",
       "  </tbody>\n",
       "</table>\n",
       "</div>"
      ],
      "text/plain": [
       "   cluster         G_1  C_6  D_6        C4        D4       C_1       D_1  \\\n",
       "0        0  BALANCEADO  1.0  1.0  0.196426  0.197108  0.503145  0.012579   \n",
       "1        1      DEBITO  1.0  2.0  0.158572  0.227238  0.527778  0.109568   \n",
       "2        2      DEBITO  1.0  2.0  0.789409  0.254241  0.596330  0.057339   \n",
       "3        3      DEBITO  0.0  3.0  0.000000  0.154320  0.000000  0.085784   \n",
       "4        4      DEBITO  0.0  2.0  0.003040  0.650574  0.011161  0.177455   \n",
       "5        5      DEBITO  0.0  2.0  0.002150  0.197414  0.003472  0.539931   \n",
       "6        6     CREDITO  1.0  0.0  0.200746  0.020044  0.550000  0.000000   \n",
       "7        7      DEBITO  0.0  2.0  0.000000  0.185513  0.000000  0.076844   \n",
       "8        8      DEBITO  0.0  1.0  0.000000  0.208824  0.000000  0.051250   \n",
       "9        9      DEBITO  1.0  2.0  0.537663  0.597310  0.549020  0.500000   \n",
       "\n",
       "        D_2       C_2       D_3       C_3       C_5  \n",
       "0  0.151730  0.561321  0.098816  0.177211  0.161045  \n",
       "1  0.332948  0.567901  0.246192  0.142456  0.133401  \n",
       "2  0.185780  0.731651  0.204908  0.825124  0.748871  \n",
       "3  0.262868  0.000000  0.144431  0.000000  0.000000  \n",
       "4  0.343750  0.011161  0.662526  0.002367  0.002388  \n",
       "5  0.730469  0.003472  0.581738  0.001674  0.001689  \n",
       "6  0.022266  0.776563  0.009589  0.282629  0.183172  \n",
       "7  0.321977  0.000000  0.226350  0.000000  0.000000  \n",
       "8  0.201250  0.000000  0.143900  0.000000  0.000000  \n",
       "9  0.602941  0.696078  0.810899  0.592690  0.491732  "
      ]
     },
     "execution_count": 49,
     "metadata": {},
     "output_type": "execute_result"
    }
   ],
   "source": [
    "## vemos el comportamiento promedio de los clientes asociados a cada cluster\n",
    "random_numerical_data.groupby('cluster').agg(\n",
    "    {\n",
    "        'G_1':lambda x: x.value_counts().index[0],\n",
    "        'C_6': lambda x: x.value_counts().index[0],\n",
    "        'D_6': lambda x: x.value_counts().index[0],\n",
    "        'C4': 'mean',\n",
    "        'D4': 'mean',\n",
    "        'C_1': 'mean',\n",
    "        'D_1': 'mean',\n",
    "        'D_2': 'mean',\n",
    "        'C_2': 'mean',\n",
    "        'D_3': 'mean',\n",
    "        'C_3': 'mean',\n",
    "        'C_5': 'mean',\n",
    "        'C_5': 'mean' \n",
    "    }\n",
    ").reset_index()"
   ]
  },
  {
   "cell_type": "markdown",
   "id": "fef0f93b",
   "metadata": {},
   "source": [
    "En la anterior tabla observamos las características promedio de cada uno de los grupos que se generaron con el modelo. por lo tanto, vemos que hay grupos que tienden a hacer más transacciones Debito, que tienden a hacer más transacciones en unos merchant_id que en otros. También algunos que solo hacen transacciones crédito y nunca han hecho débito y demás.\n",
    "\n",
    "Luego de que tenemos a las personas agrupadas por tipo de comportamiento, generamos reglas para cada uno de los grupos con el fin de identificar cuáles de esos clientes se han salido del comportamiento usual de dicho grupo.\n"
   ]
  },
  {
   "cell_type": "markdown",
   "id": "d85e0cc9",
   "metadata": {},
   "source": [
    "### Construción de las reglas transaccinales para cada uno de los grupos\n",
    "\n",
    "Dado que la idea de este modelo es detectar fraccionamiento transaccional se van a generar reglas, tal como en la aproximación experta, para el numero de transacciones maximas que pueden realizar por dia y el monto minimo de las mismas."
   ]
  },
  {
   "cell_type": "code",
   "execution_count": 51,
   "id": "93e6f92b",
   "metadata": {},
   "outputs": [],
   "source": [
    "## define a function to calculate the percentile which corresponds to a extrange behaviour\n",
    "def percentile(n):\n",
    "    def percentile_(x):\n",
    "        return np.percentile(x, n)\n",
    "    percentile_.__name__ = 'percentile_%s' % n\n",
    "    return percentile_"
   ]
  },
  {
   "cell_type": "code",
   "execution_count": null,
   "id": "67f3463a",
   "metadata": {},
   "outputs": [],
   "source": [
    "## I have saved the run until here in case the kernel breaks\n",
    "#random_numerical_data=pd.read_csv(\"Data_1/clusters_data.csv\",index_col=0)"
   ]
  },
  {
   "cell_type": "code",
   "execution_count": null,
   "id": "d9cb83b1",
   "metadata": {},
   "outputs": [],
   "source": [
    "## transformar la data a sus valores originales sin el scaler\n",
    "clusters_labels=random_numerical_data[\"cluster\"]\n",
    "numeric_values=scaler.inverse_transform(random_numerical_data[list(cols_num)].values)\n",
    "df_original=pd.DataFrame(numeric_values,columns=cols_num)\n",
    "df_original[\"cluster\"]=clusters_labels"
   ]
  },
  {
   "cell_type": "code",
   "execution_count": null,
   "id": "ab75febb",
   "metadata": {},
   "outputs": [],
   "source": [
    "## Creamos las reglas para el numero y monto minimo de transacciones en el dia\n",
    "## Para esto usamos las transacciones que esten Alpha rangos intercuantilico mas alla de su media.\n",
    "\n",
    "Alpha=1\n",
    "\n",
    "df_original.groupby('cluster').agg(\n",
    "    {\n",
    "        'C_1': lambda x: x.mean()+Alpha*(np.percentile(x,75)-np.percentile(x,25)),\n",
    "        'D_1': lambda x: x.mean()+Alpha*(np.percentile(x,75)-np.percentile(x,25)),\n",
    "        'D4': lambda x: x.mean()-Alpha*(np.percentile(x,75)-np.percentile(x,25)),\n",
    "        'C4': lambda x: x.mean()-Alpha*(np.percentile(x,75)-np.percentile(x,25)),\n",
    "    }\n",
    ").reset_index()"
   ]
  },
  {
   "cell_type": "markdown",
   "id": "b9fd8194",
   "metadata": {},
   "source": [
    "### resultado del modelo.\n",
    "la tabla anterior nos muestra una serie de reglas para cada clúster, donde por ejemplo, los clientes del clúster 0 no podrán hacer más de 2 transacciones crédito al día por menos de 5.94 y así para cada clúster, tanto para operaciones DEBITO como CREDITO."
   ]
  },
  {
   "cell_type": "markdown",
   "id": "ebcd2632",
   "metadata": {},
   "source": [
    "## Punto 3.2\n",
    "\n",
    "La idea de este modelo es que se estime el clúster al cual pertenece la persona de manera mensual y que se revise diariamente si está incumpliendo las reglas transaccionales que se generaron en el mes inmediatamente anterior. La actualización mensual se realizaría ya que si el cliente tiene un cambio estructural en su comportamiento transaccional, es importante cambiarlo e grupo para que no genere alertas por transacciones que serían normales dado su cambio de grupo. Además, en el mes que transcurre antes de cambiarlo de grupo, en caso de que este haciendo transacciones que no correspondan al comportamiento de su grupo, lo deberíamos detectar con las reglas y, en caso de que la justifique, el siguiente mes cambiaria de grupo transaccional"
   ]
  },
  {
   "cell_type": "markdown",
   "id": "0a26c0a6",
   "metadata": {},
   "source": [
    "### Punto 3.3\n",
    "Para desplegar esta propuesta en producción me apalancaría de las instancias de Sagemaker en la nube de Amazon. En estas instancias, una vez al mes, por medio de una configuración de lifecycle y un trigger programado en AWS Lambda, correría este Código asignando un clúster a cada uno de los clientes de la entidad y, generando un archivo con los valores de las reglas transaccionales por débito y crédito por clúster, tanto el número de transacciones como el monto promedio de dichas transacciones en el día.\n",
    "\n",
    "Dado que el modelo es tan pesado de correr, una alternativa para asignar los clústeres, seria extraer un archivo csv con los vectores de los centroides de cada clúster y, para cada cliente nuevo, asignar el centroide más cercano y reentrenar el modelo completo con una periodicidad más alta, como 6 meses. Vale la pena mencionar que es necesario volver a tunear los parámetros del modelo y demás con una periodicidad mínima de 6 meses porque el comportamiento de nuestros clientes puede cambiar drásticamente en este tiempo.\n",
    "\n",
    "Luego de asignar un clúster a cada cliente y generar el archivo con los límites de número de transacciones y promedio del valor de estas, se podrían tomar dos alternativas para la detección de fraude:\n",
    "- Coordinar con el área de desarrollo de software y de backend que en cada transacción que haga un cliente al día, se cuente por detrás el número de transacciones y monto promedio de las mismas, acumulado en el día. en caso de que sobrepase los tresholds definidos para el cluster asignado a ese cliente, le bloquee la transacción hasta que se comunique con alguien de la entidad.\n",
    "- En caso de que la coordinación con el área de TI sea muy complicada, se podría generar una lambda al final del día que consolide la cantidad de transacciones y monto promedio de las personas que hicieron transacciones en ese día y, en caso de que pase alguno de los límites establecidos, envíe una alerta por correo al área de riesgos para que revise la información transaccional de la persona.\n"
   ]
  },
  {
   "cell_type": "code",
   "execution_count": null,
   "id": "1035b78e",
   "metadata": {},
   "outputs": [],
   "source": []
  }
 ],
 "metadata": {
  "kernelspec": {
   "display_name": "Python 3 (ipykernel)",
   "language": "python",
   "name": "python3"
  },
  "language_info": {
   "codemirror_mode": {
    "name": "ipython",
    "version": 3
   },
   "file_extension": ".py",
   "mimetype": "text/x-python",
   "name": "python",
   "nbconvert_exporter": "python",
   "pygments_lexer": "ipython3",
   "version": "3.9.12"
  }
 },
 "nbformat": 4,
 "nbformat_minor": 5
}
